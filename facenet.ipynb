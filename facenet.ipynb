{
  "nbformat": 4,
  "nbformat_minor": 0,
  "metadata": {
    "accelerator": "GPU",
    "colab": {
      "provenance": [],
      "include_colab_link": true
    },
    "kernelspec": {
      "display_name": "Python 3",
      "name": "python3"
    },
    "language_info": {
      "name": "python"
    }
  },
  "cells": [
    {
      "cell_type": "markdown",
      "metadata": {
        "id": "view-in-github",
        "colab_type": "text"
      },
      "source": [
        "<a href=\"https://colab.research.google.com/github/ZiadMotagaly/facenet/blob/main/facenet.ipynb\" target=\"_parent\"><img src=\"https://colab.research.google.com/assets/colab-badge.svg\" alt=\"Open In Colab\"/></a>"
      ]
    },
    {
      "cell_type": "code",
      "metadata": {
        "id": "_Qiiu82IUD4r"
      },
      "source": [
        "import numpy as np\n",
        "import random\n",
        "import matplotlib.pyplot as plt\n",
        "from itertools import combinations\n",
        "from collections import OrderedDict\n",
        "from tqdm import tqdm\n",
        "\n",
        "import torch\n",
        "import torch.nn as nn\n",
        "import torch.nn.functional as F\n",
        "import torch.optim as optim\n",
        "\n",
        "import torchvision\n",
        "import torchvision.transforms as transforms"
      ],
      "execution_count": null,
      "outputs": []
    },
    {
      "cell_type": "code",
      "metadata": {
        "id": "J40QQx68_dXp"
      },
      "source": [
        "import glob\n",
        "import numpy as np\n",
        "import random\n",
        "import matplotlib.pyplot as plt\n",
        "from PIL import Image\n",
        "from itertools import combinations\n",
        "from collections import OrderedDict\n",
        "from tqdm import tqdm\n",
        "\n",
        "import torch\n",
        "import torch.nn as nn\n",
        "import torch.nn.functional as F\n",
        "import torch.optim as optim\n",
        "from torch.utils.data import Dataset, DataLoader\n",
        "\n",
        "import torchvision\n",
        "import torchvision.transforms as transforms"
      ],
      "execution_count": null,
      "outputs": []
    },
    {
      "cell_type": "code",
      "metadata": {
        "colab": {
          "base_uri": "https://localhost:8080/"
        },
        "id": "0rEvln3P_fDq",
        "outputId": "55cdce91-afc5-4c6c-e369-49ddad9c83fc"
      },
      "source": [
        "torch.cuda.is_available()"
      ],
      "execution_count": null,
      "outputs": [
        {
          "output_type": "execute_result",
          "data": {
            "text/plain": [
              "True"
            ]
          },
          "metadata": {
            "tags": []
          },
          "execution_count": 3
        }
      ]
    },
    {
      "cell_type": "code",
      "metadata": {
        "id": "A82hLQzQ_h1q"
      },
      "source": [
        "PATH = '/content/drive/My Drive/ColabNotebooks/att_face_dataset/att_face_dataset/'"
      ],
      "execution_count": null,
      "outputs": []
    },
    {
      "cell_type": "markdown",
      "metadata": {
        "id": "YNAtY7ZqlaEy"
      },
      "source": [
        "**ATT Dataset**"
      ]
    },
    {
      "cell_type": "code",
      "metadata": {
        "id": "oVLLpZuE_idK"
      },
      "source": [
        "class CustomDataset(Dataset):\n",
        "\n",
        "    def __init__(self, path, transform=transforms.ToTensor()):\n",
        "        self.dirs = glob.glob(f'{path}*/')\n",
        "        self.transform = transform\n",
        "\n",
        "        self.total_images = self._get_images(self.dirs, self.transform)\n",
        "\n",
        "    def _get_images(self, dirs, transform):\n",
        "        ti = []\n",
        "        for dir in tqdm(dirs):\n",
        "#             images = [transform(Image.open(image)).squeeze() for image in glob.glob(f'{dir}*')]\n",
        "            images = [transform(Image.open(image)) for image in glob.glob(f'{dir}*')]\n",
        "            ti.append(images)\n",
        "        return ti\n",
        "\n",
        "    def __len__(self):\n",
        "        return self.dirs.__len__()\n",
        "\n",
        "    def __getitem__(self,idx):\n",
        "        return torch.stack(self.total_images[idx], dim=0)\n",
        "# ref : https://pytorch.org/tutorials/beginner/data_loading_tutorial.html"
      ],
      "execution_count": null,
      "outputs": []
    },
    {
      "cell_type": "code",
      "metadata": {
        "id": "3EFGMEhAASoi",
        "colab": {
          "base_uri": "https://localhost:8080/"
        },
        "outputId": "6077c4ce-276e-40af-bdac-7b7395c9ee1b"
      },
      "source": [
        "att_dataset = CustomDataset(PATH)"
      ],
      "execution_count": null,
      "outputs": [
        {
          "output_type": "stream",
          "text": [
            "100%|██████████| 40/40 [01:36<00:00,  2.42s/it]\n"
          ],
          "name": "stderr"
        }
      ]
    },
    {
      "cell_type": "code",
      "metadata": {
        "colab": {
          "base_uri": "https://localhost:8080/"
        },
        "id": "riY4nGEQ_05F",
        "outputId": "e48d28b9-ce6c-4662-c969-f503933780b0"
      },
      "source": [
        "len(att_dataset)\n"
      ],
      "execution_count": null,
      "outputs": [
        {
          "output_type": "execute_result",
          "data": {
            "text/plain": [
              "40"
            ]
          },
          "metadata": {
            "tags": []
          },
          "execution_count": 90
        }
      ]
    },
    {
      "cell_type": "code",
      "metadata": {
        "colab": {
          "base_uri": "https://localhost:8080/"
        },
        "id": "-evCiyNXzcwj",
        "outputId": "fa3fe9bb-3e44-4388-b2d4-173dc018f8a6"
      },
      "source": [
        "att_dataset"
      ],
      "execution_count": null,
      "outputs": [
        {
          "output_type": "execute_result",
          "data": {
            "text/plain": [
              "<__main__.CustomDataset at 0x7f40a13a5c10>"
            ]
          },
          "metadata": {
            "tags": []
          },
          "execution_count": 108
        }
      ]
    },
    {
      "cell_type": "code",
      "metadata": {
        "colab": {
          "base_uri": "https://localhost:8080/"
        },
        "id": "lpv3ixG5_0U3",
        "outputId": "9088c377-124b-4253-e7b7-4b24c76960df"
      },
      "source": [
        "att_dataset[0].shape"
      ],
      "execution_count": null,
      "outputs": [
        {
          "output_type": "execute_result",
          "data": {
            "text/plain": [
              "torch.Size([10, 1, 112, 92])"
            ]
          },
          "metadata": {
            "tags": []
          },
          "execution_count": 91
        }
      ]
    },
    {
      "cell_type": "code",
      "metadata": {
        "id": "qq55SKlKBL5P"
      },
      "source": [
        "_,axxr = plt.subplots(40,10, figsize=(12,60))\n",
        "for i in range(40):\n",
        "    for j in range(10):\n",
        "        axxr[i][j].imshow(att_dataset[i][j].squeeze(), cmap='gray')\n",
        "plt.setp(plt.gcf().get_axes(), xticks=[], yticks=[])\n",
        "# ref : https://stackoverflow.com/questions/25124143/matplotlib-subplots-get-rid-of-tick-labels-altogether\n",
        "plt.show()"
      ],
      "execution_count": null,
      "outputs": []
    },
    {
      "cell_type": "code",
      "metadata": {
        "id": "N0-GXjwVBMok"
      },
      "source": [
        "def triplet_loss(anchor, positive, negative, margin=0.2):\n",
        "    pos_dist = (anchor - positive).pow(2).sum(-1) #.pow(.5)\n",
        "    neg_dist = (anchor - negative).pow(2).sum(-1) #.pow(.5)\n",
        "    loss = F.relu(pos_dist - neg_dist + margin)\n",
        "    return loss.mean()\n",
        "\n",
        "# ref: https://github.com/adambielski/siamese-triplet/blob/master/losses.py#L24"
      ],
      "execution_count": null,
      "outputs": []
    },
    {
      "cell_type": "code",
      "metadata": {
        "id": "wPgYR0_NC3CO"
      },
      "source": [
        "def get_random_triplets(embeddings,  targets=None) -> torch.Tensor:\n",
        "    '''\n",
        "    For each image in data (Anchor), randomly sample a Positive image from its class.\n",
        "    Then from each of the other classes sample one image (randomly) as the Negative. Hence, for every Anchor\n",
        "    you will have 1 randomly selected positive from it's class and randomly selected Negative from each of the n-1 classes\n",
        "    where n is total number of classes.  For every Anchor image you would have n-1 triplets.\n",
        "    So if you're having 3 classes of 10 images each then you would have 60 triplets.\n",
        "    '''\n",
        "\n",
        "\n",
        "#     assert len(embeddings) == len(targets) , \"Embeddings and Targets must have same lenght\"\n",
        "\n",
        "    triplets = []\n",
        "    for i, embedding in enumerate(embeddings):\n",
        "        temp = embeddings.pop(i)\n",
        "\n",
        "        for anchor in embedding:\n",
        "            positive = random.choice(embedding)\n",
        "\n",
        "            for negatives in embeddings:\n",
        "                negative = random.choice(negatives)\n",
        "\n",
        "                triplets.append(torch.stack([anchor, positive, negative], dim=0))\n",
        "\n",
        "        embeddings.insert(i, temp)\n",
        "\n",
        "    return torch.stack(triplets, dim=0)"
      ],
      "execution_count": null,
      "outputs": []
    },
    {
      "cell_type": "code",
      "metadata": {
        "id": "hk4YPxP_5uQ9"
      },
      "source": [
        "dataset = list(att_dataset)\n"
      ],
      "execution_count": null,
      "outputs": []
    },
    {
      "cell_type": "code",
      "metadata": {
        "id": "aBDHUju3dSSr"
      },
      "source": [
        "train = dataset[0:30]\n"
      ],
      "execution_count": null,
      "outputs": []
    },
    {
      "cell_type": "code",
      "metadata": {
        "id": "7wqEcPvZSGll",
        "colab": {
          "base_uri": "https://localhost:8080/"
        },
        "outputId": "ccbb49bf-536a-4028-8b43-8266c35f307d"
      },
      "source": [
        "len(train)\n"
      ],
      "execution_count": null,
      "outputs": [
        {
          "output_type": "execute_result",
          "data": {
            "text/plain": [
              "30"
            ]
          },
          "metadata": {
            "tags": []
          },
          "execution_count": 97
        }
      ]
    },
    {
      "cell_type": "code",
      "metadata": {
        "id": "GOCTRUpeS7SR"
      },
      "source": [
        "test = dataset[30:]\n"
      ],
      "execution_count": null,
      "outputs": []
    },
    {
      "cell_type": "code",
      "metadata": {
        "colab": {
          "base_uri": "https://localhost:8080/"
        },
        "id": "2-UIwrrjS7du",
        "outputId": "abe63dcd-4e20-40ba-8a5d-5e7720ccdb02"
      },
      "source": [
        "len(test)\n"
      ],
      "execution_count": null,
      "outputs": [
        {
          "output_type": "execute_result",
          "data": {
            "text/plain": [
              "10"
            ]
          },
          "metadata": {
            "tags": []
          },
          "execution_count": 99
        }
      ]
    },
    {
      "cell_type": "code",
      "metadata": {
        "id": "Pj0JUP4sS7k-"
      },
      "source": [
        "triplets = get_random_triplets(train)\n"
      ],
      "execution_count": null,
      "outputs": []
    },
    {
      "cell_type": "code",
      "metadata": {
        "colab": {
          "base_uri": "https://localhost:8080/"
        },
        "id": "eHptFbX3xa8z",
        "outputId": "5f267477-a1a4-4e09-f01e-808e37ded1f4"
      },
      "source": [
        "triplets.shape\n"
      ],
      "execution_count": null,
      "outputs": [
        {
          "output_type": "execute_result",
          "data": {
            "text/plain": [
              "torch.Size([8700, 3, 1, 112, 92])"
            ]
          },
          "metadata": {
            "tags": []
          },
          "execution_count": 102
        }
      ]
    },
    {
      "cell_type": "code",
      "metadata": {
        "id": "wj4oeGICen_y"
      },
      "source": [
        "class Model(nn.Module):\n",
        "    def __init__(self):\n",
        "        super(Model, self).__init__()\n",
        "\n",
        "        self.convnet1 = nn.Sequential(OrderedDict([\n",
        "                            ('conv1', nn.Conv2d(in_channels=1, out_channels=16, kernel_size=(7,5))),\n",
        "                            ('conv2', nn.Conv2d(in_channels=16, out_channels=32, kernel_size=(5,3))),\n",
        "                            ('norm', nn.BatchNorm2d(32)),\n",
        "                            ('actv', nn.ReLU(inplace=True)),\n",
        "                            ('pool', nn.MaxPool2d(kernel_size=3, stride=2))\n",
        "        ]))\n",
        "        # ref : https://discuss.pytorch.org/t/is-it-possible-to-specify-a-name-for-each-layer-when-creating-the-model/33637/2\n",
        "\n",
        "        self.convnet2 = nn.Sequential(OrderedDict([\n",
        "                            ('conv1', nn.Conv2d(in_channels=32, out_channels=64, kernel_size=3)),\n",
        "                            ('conv2', nn.Conv2d(in_channels=64, out_channels=64, kernel_size=3)),\n",
        "                            ('norm', nn.BatchNorm2d(64)),\n",
        "                            ('actv', nn.ReLU(inplace=True)),\n",
        "                            ('pool', nn.MaxPool2d(kernel_size=3, stride=2))\n",
        "        ]))\n",
        "\n",
        "        self.convnet3 = nn.Sequential(OrderedDict([\n",
        "                            ('conv1', nn.Conv2d(in_channels=64, out_channels=128, kernel_size=3)),\n",
        "                            ('conv2', nn.Conv2d(in_channels=128, out_channels=128, kernel_size=3)),\n",
        "                            ('norm', nn.BatchNorm2d(128)),\n",
        "                            ('actv', nn.ReLU(inplace=True)),\n",
        "                            ('pool', nn.MaxPool2d(kernel_size=3, stride=2))\n",
        "        ]))\n",
        "\n",
        "        self.conv     = nn.Conv2d(in_channels=128, out_channels=128, kernel_size=3)\n",
        "\n",
        "        self.FCs      = nn.Sequential(OrderedDict([\n",
        "                            ('FC1', nn.Linear(in_features=3072, out_features=1024)),\n",
        "                            ('relu1', nn.ReLU(inplace=True)),\n",
        "                            ('FC2', nn.Linear(in_features=1024, out_features=512)),\n",
        "                            ('relu2', nn.ReLU(inplace=True)),\n",
        "                            ('FC3', nn.Linear(in_features=512, out_features=128)),\n",
        "                            # ('relu3', nn.ReLU(inplace=True)),\n",
        "        ]))\n",
        "\n",
        "\n",
        "        for m in self.modules():\n",
        "            classname = m.__class__.__name__\n",
        "            if classname.find('Conv') != -1:\n",
        "                nn.init.kaiming_normal_(m.weight.data, nonlinearity='relu')  # He-initialization\n",
        "                # ref : https://pytorch.org/docs/stable/nn.init.html#torch.nn.init.kaiming_normal_\n",
        "\n",
        "    def semi_forward(self, x):\n",
        "        x = self.convnet1(x)\n",
        "        x = self.convnet2(x)\n",
        "        x = self.convnet3(x)\n",
        "        x = self.conv(x)\n",
        "        x = x.view(-1, 6*4*128)\n",
        "        # x = x.reshape(-1, 10*6*128)\n",
        "        x = self.FCs(x)\n",
        "        return x\n",
        "\n",
        "    def forward(self,triplet):\n",
        "        anc = self.semi_forward(triplet[:,0,...])\n",
        "        pos = self.semi_forward(triplet[:,1,...])\n",
        "        neg = self.semi_forward(triplet[:,2,...])\n",
        "        return [anc, pos, neg]"
      ],
      "execution_count": null,
      "outputs": []
    },
    {
      "cell_type": "code",
      "metadata": {
        "id": "YoVyLajceoR9",
        "colab": {
          "base_uri": "https://localhost:8080/"
        },
        "outputId": "e0913fee-ebd2-43e8-f6ef-3a4bd15b631a"
      },
      "source": [
        "model = Model()\n",
        "model"
      ],
      "execution_count": null,
      "outputs": [
        {
          "output_type": "execute_result",
          "data": {
            "text/plain": [
              "Model(\n",
              "  (convnet1): Sequential(\n",
              "    (conv1): Conv2d(1, 16, kernel_size=(7, 5), stride=(1, 1))\n",
              "    (conv2): Conv2d(16, 32, kernel_size=(5, 3), stride=(1, 1))\n",
              "    (norm): BatchNorm2d(32, eps=1e-05, momentum=0.1, affine=True, track_running_stats=True)\n",
              "    (actv): ReLU(inplace=True)\n",
              "    (pool): MaxPool2d(kernel_size=3, stride=2, padding=0, dilation=1, ceil_mode=False)\n",
              "  )\n",
              "  (convnet2): Sequential(\n",
              "    (conv1): Conv2d(32, 64, kernel_size=(3, 3), stride=(1, 1))\n",
              "    (conv2): Conv2d(64, 64, kernel_size=(3, 3), stride=(1, 1))\n",
              "    (norm): BatchNorm2d(64, eps=1e-05, momentum=0.1, affine=True, track_running_stats=True)\n",
              "    (actv): ReLU(inplace=True)\n",
              "    (pool): MaxPool2d(kernel_size=3, stride=2, padding=0, dilation=1, ceil_mode=False)\n",
              "  )\n",
              "  (convnet3): Sequential(\n",
              "    (conv1): Conv2d(64, 128, kernel_size=(3, 3), stride=(1, 1))\n",
              "    (conv2): Conv2d(128, 128, kernel_size=(3, 3), stride=(1, 1))\n",
              "    (norm): BatchNorm2d(128, eps=1e-05, momentum=0.1, affine=True, track_running_stats=True)\n",
              "    (actv): ReLU(inplace=True)\n",
              "    (pool): MaxPool2d(kernel_size=3, stride=2, padding=0, dilation=1, ceil_mode=False)\n",
              "  )\n",
              "  (conv): Conv2d(128, 128, kernel_size=(3, 3), stride=(1, 1))\n",
              "  (FCs): Sequential(\n",
              "    (FC1): Linear(in_features=3072, out_features=1024, bias=True)\n",
              "    (relu1): ReLU(inplace=True)\n",
              "    (FC2): Linear(in_features=1024, out_features=512, bias=True)\n",
              "    (relu2): ReLU(inplace=True)\n",
              "    (FC3): Linear(in_features=512, out_features=128, bias=True)\n",
              "  )\n",
              ")"
            ]
          },
          "metadata": {
            "tags": []
          },
          "execution_count": 104
        }
      ]
    },
    {
      "cell_type": "code",
      "metadata": {
        "id": "0chyGCzGeoUX",
        "colab": {
          "base_uri": "https://localhost:8080/",
          "height": 375
        },
        "outputId": "2597fa6e-5ce0-4cbf-9b1c-bf81e7491f6c"
      },
      "source": [
        "with torch.no_grad():\n",
        "    x = model.semi_forward(att_dataset)\n",
        "    print(att_dataset.shape)\n",
        "    print(x[0])\n",
        "\n",
        "    y = model.semi_forward(att_dataset[0].unsqueeze(0))\n",
        "    print(att_dataset[0].unsqueeze(0).shape)\n",
        "    print(y)\n",
        "\n",
        "    print((att_dataset[0].unsqueeze(0) == att_dataset[0]).sum())\n",
        "    (x == y).sum()"
      ],
      "execution_count": null,
      "outputs": [
        {
          "output_type": "error",
          "ename": "TypeError",
          "evalue": "ignored",
          "traceback": [
            "\u001b[0;31m---------------------------------------------------------------------------\u001b[0m",
            "\u001b[0;31mTypeError\u001b[0m                                 Traceback (most recent call last)",
            "\u001b[0;32m<ipython-input-109-4c24b1e9e246>\u001b[0m in \u001b[0;36m<module>\u001b[0;34m()\u001b[0m\n\u001b[1;32m      1\u001b[0m \u001b[0;32mwith\u001b[0m \u001b[0mtorch\u001b[0m\u001b[0;34m.\u001b[0m\u001b[0mno_grad\u001b[0m\u001b[0;34m(\u001b[0m\u001b[0;34m)\u001b[0m\u001b[0;34m:\u001b[0m\u001b[0;34m\u001b[0m\u001b[0;34m\u001b[0m\u001b[0m\n\u001b[0;32m----> 2\u001b[0;31m     \u001b[0mx\u001b[0m \u001b[0;34m=\u001b[0m \u001b[0mmodel\u001b[0m\u001b[0;34m.\u001b[0m\u001b[0msemi_forward\u001b[0m\u001b[0;34m(\u001b[0m\u001b[0matt_dataset\u001b[0m\u001b[0;34m)\u001b[0m\u001b[0;34m\u001b[0m\u001b[0;34m\u001b[0m\u001b[0m\n\u001b[0m\u001b[1;32m      3\u001b[0m     \u001b[0mprint\u001b[0m\u001b[0;34m(\u001b[0m\u001b[0matt_dataset\u001b[0m\u001b[0;34m.\u001b[0m\u001b[0mshape\u001b[0m\u001b[0;34m)\u001b[0m\u001b[0;34m\u001b[0m\u001b[0;34m\u001b[0m\u001b[0m\n\u001b[1;32m      4\u001b[0m     \u001b[0mprint\u001b[0m\u001b[0;34m(\u001b[0m\u001b[0mx\u001b[0m\u001b[0;34m[\u001b[0m\u001b[0;36m0\u001b[0m\u001b[0;34m]\u001b[0m\u001b[0;34m)\u001b[0m\u001b[0;34m\u001b[0m\u001b[0;34m\u001b[0m\u001b[0m\n\u001b[1;32m      5\u001b[0m \u001b[0;34m\u001b[0m\u001b[0m\n",
            "\u001b[0;32m<ipython-input-103-12addd45c152>\u001b[0m in \u001b[0;36msemi_forward\u001b[0;34m(self, x)\u001b[0m\n\u001b[1;32m     47\u001b[0m \u001b[0;34m\u001b[0m\u001b[0m\n\u001b[1;32m     48\u001b[0m     \u001b[0;32mdef\u001b[0m \u001b[0msemi_forward\u001b[0m\u001b[0;34m(\u001b[0m\u001b[0mself\u001b[0m\u001b[0;34m,\u001b[0m \u001b[0mx\u001b[0m\u001b[0;34m)\u001b[0m\u001b[0;34m:\u001b[0m\u001b[0;34m\u001b[0m\u001b[0;34m\u001b[0m\u001b[0m\n\u001b[0;32m---> 49\u001b[0;31m         \u001b[0mx\u001b[0m \u001b[0;34m=\u001b[0m \u001b[0mself\u001b[0m\u001b[0;34m.\u001b[0m\u001b[0mconvnet1\u001b[0m\u001b[0;34m(\u001b[0m\u001b[0mx\u001b[0m\u001b[0;34m)\u001b[0m\u001b[0;34m\u001b[0m\u001b[0;34m\u001b[0m\u001b[0m\n\u001b[0m\u001b[1;32m     50\u001b[0m         \u001b[0mx\u001b[0m \u001b[0;34m=\u001b[0m \u001b[0mself\u001b[0m\u001b[0;34m.\u001b[0m\u001b[0mconvnet2\u001b[0m\u001b[0;34m(\u001b[0m\u001b[0mx\u001b[0m\u001b[0;34m)\u001b[0m\u001b[0;34m\u001b[0m\u001b[0;34m\u001b[0m\u001b[0m\n\u001b[1;32m     51\u001b[0m         \u001b[0mx\u001b[0m \u001b[0;34m=\u001b[0m \u001b[0mself\u001b[0m\u001b[0;34m.\u001b[0m\u001b[0mconvnet3\u001b[0m\u001b[0;34m(\u001b[0m\u001b[0mx\u001b[0m\u001b[0;34m)\u001b[0m\u001b[0;34m\u001b[0m\u001b[0;34m\u001b[0m\u001b[0m\n",
            "\u001b[0;32m/usr/local/lib/python3.7/dist-packages/torch/nn/modules/module.py\u001b[0m in \u001b[0;36m_call_impl\u001b[0;34m(self, *input, **kwargs)\u001b[0m\n\u001b[1;32m    887\u001b[0m             \u001b[0mresult\u001b[0m \u001b[0;34m=\u001b[0m \u001b[0mself\u001b[0m\u001b[0;34m.\u001b[0m\u001b[0m_slow_forward\u001b[0m\u001b[0;34m(\u001b[0m\u001b[0;34m*\u001b[0m\u001b[0minput\u001b[0m\u001b[0;34m,\u001b[0m \u001b[0;34m**\u001b[0m\u001b[0mkwargs\u001b[0m\u001b[0;34m)\u001b[0m\u001b[0;34m\u001b[0m\u001b[0;34m\u001b[0m\u001b[0m\n\u001b[1;32m    888\u001b[0m         \u001b[0;32melse\u001b[0m\u001b[0;34m:\u001b[0m\u001b[0;34m\u001b[0m\u001b[0;34m\u001b[0m\u001b[0m\n\u001b[0;32m--> 889\u001b[0;31m             \u001b[0mresult\u001b[0m \u001b[0;34m=\u001b[0m \u001b[0mself\u001b[0m\u001b[0;34m.\u001b[0m\u001b[0mforward\u001b[0m\u001b[0;34m(\u001b[0m\u001b[0;34m*\u001b[0m\u001b[0minput\u001b[0m\u001b[0;34m,\u001b[0m \u001b[0;34m**\u001b[0m\u001b[0mkwargs\u001b[0m\u001b[0;34m)\u001b[0m\u001b[0;34m\u001b[0m\u001b[0;34m\u001b[0m\u001b[0m\n\u001b[0m\u001b[1;32m    890\u001b[0m         for hook in itertools.chain(\n\u001b[1;32m    891\u001b[0m                 \u001b[0m_global_forward_hooks\u001b[0m\u001b[0;34m.\u001b[0m\u001b[0mvalues\u001b[0m\u001b[0;34m(\u001b[0m\u001b[0;34m)\u001b[0m\u001b[0;34m,\u001b[0m\u001b[0;34m\u001b[0m\u001b[0;34m\u001b[0m\u001b[0m\n",
            "\u001b[0;32m/usr/local/lib/python3.7/dist-packages/torch/nn/modules/container.py\u001b[0m in \u001b[0;36mforward\u001b[0;34m(self, input)\u001b[0m\n\u001b[1;32m    117\u001b[0m     \u001b[0;32mdef\u001b[0m \u001b[0mforward\u001b[0m\u001b[0;34m(\u001b[0m\u001b[0mself\u001b[0m\u001b[0;34m,\u001b[0m \u001b[0minput\u001b[0m\u001b[0;34m)\u001b[0m\u001b[0;34m:\u001b[0m\u001b[0;34m\u001b[0m\u001b[0;34m\u001b[0m\u001b[0m\n\u001b[1;32m    118\u001b[0m         \u001b[0;32mfor\u001b[0m \u001b[0mmodule\u001b[0m \u001b[0;32min\u001b[0m \u001b[0mself\u001b[0m\u001b[0;34m:\u001b[0m\u001b[0;34m\u001b[0m\u001b[0;34m\u001b[0m\u001b[0m\n\u001b[0;32m--> 119\u001b[0;31m             \u001b[0minput\u001b[0m \u001b[0;34m=\u001b[0m \u001b[0mmodule\u001b[0m\u001b[0;34m(\u001b[0m\u001b[0minput\u001b[0m\u001b[0;34m)\u001b[0m\u001b[0;34m\u001b[0m\u001b[0;34m\u001b[0m\u001b[0m\n\u001b[0m\u001b[1;32m    120\u001b[0m         \u001b[0;32mreturn\u001b[0m \u001b[0minput\u001b[0m\u001b[0;34m\u001b[0m\u001b[0;34m\u001b[0m\u001b[0m\n\u001b[1;32m    121\u001b[0m \u001b[0;34m\u001b[0m\u001b[0m\n",
            "\u001b[0;32m/usr/local/lib/python3.7/dist-packages/torch/nn/modules/module.py\u001b[0m in \u001b[0;36m_call_impl\u001b[0;34m(self, *input, **kwargs)\u001b[0m\n\u001b[1;32m    887\u001b[0m             \u001b[0mresult\u001b[0m \u001b[0;34m=\u001b[0m \u001b[0mself\u001b[0m\u001b[0;34m.\u001b[0m\u001b[0m_slow_forward\u001b[0m\u001b[0;34m(\u001b[0m\u001b[0;34m*\u001b[0m\u001b[0minput\u001b[0m\u001b[0;34m,\u001b[0m \u001b[0;34m**\u001b[0m\u001b[0mkwargs\u001b[0m\u001b[0;34m)\u001b[0m\u001b[0;34m\u001b[0m\u001b[0;34m\u001b[0m\u001b[0m\n\u001b[1;32m    888\u001b[0m         \u001b[0;32melse\u001b[0m\u001b[0;34m:\u001b[0m\u001b[0;34m\u001b[0m\u001b[0;34m\u001b[0m\u001b[0m\n\u001b[0;32m--> 889\u001b[0;31m             \u001b[0mresult\u001b[0m \u001b[0;34m=\u001b[0m \u001b[0mself\u001b[0m\u001b[0;34m.\u001b[0m\u001b[0mforward\u001b[0m\u001b[0;34m(\u001b[0m\u001b[0;34m*\u001b[0m\u001b[0minput\u001b[0m\u001b[0;34m,\u001b[0m \u001b[0;34m**\u001b[0m\u001b[0mkwargs\u001b[0m\u001b[0;34m)\u001b[0m\u001b[0;34m\u001b[0m\u001b[0;34m\u001b[0m\u001b[0m\n\u001b[0m\u001b[1;32m    890\u001b[0m         for hook in itertools.chain(\n\u001b[1;32m    891\u001b[0m                 \u001b[0m_global_forward_hooks\u001b[0m\u001b[0;34m.\u001b[0m\u001b[0mvalues\u001b[0m\u001b[0;34m(\u001b[0m\u001b[0;34m)\u001b[0m\u001b[0;34m,\u001b[0m\u001b[0;34m\u001b[0m\u001b[0;34m\u001b[0m\u001b[0m\n",
            "\u001b[0;32m/usr/local/lib/python3.7/dist-packages/torch/nn/modules/conv.py\u001b[0m in \u001b[0;36mforward\u001b[0;34m(self, input)\u001b[0m\n\u001b[1;32m    397\u001b[0m \u001b[0;34m\u001b[0m\u001b[0m\n\u001b[1;32m    398\u001b[0m     \u001b[0;32mdef\u001b[0m \u001b[0mforward\u001b[0m\u001b[0;34m(\u001b[0m\u001b[0mself\u001b[0m\u001b[0;34m,\u001b[0m \u001b[0minput\u001b[0m\u001b[0;34m:\u001b[0m \u001b[0mTensor\u001b[0m\u001b[0;34m)\u001b[0m \u001b[0;34m->\u001b[0m \u001b[0mTensor\u001b[0m\u001b[0;34m:\u001b[0m\u001b[0;34m\u001b[0m\u001b[0;34m\u001b[0m\u001b[0m\n\u001b[0;32m--> 399\u001b[0;31m         \u001b[0;32mreturn\u001b[0m \u001b[0mself\u001b[0m\u001b[0;34m.\u001b[0m\u001b[0m_conv_forward\u001b[0m\u001b[0;34m(\u001b[0m\u001b[0minput\u001b[0m\u001b[0;34m,\u001b[0m \u001b[0mself\u001b[0m\u001b[0;34m.\u001b[0m\u001b[0mweight\u001b[0m\u001b[0;34m,\u001b[0m \u001b[0mself\u001b[0m\u001b[0;34m.\u001b[0m\u001b[0mbias\u001b[0m\u001b[0;34m)\u001b[0m\u001b[0;34m\u001b[0m\u001b[0;34m\u001b[0m\u001b[0m\n\u001b[0m\u001b[1;32m    400\u001b[0m \u001b[0;34m\u001b[0m\u001b[0m\n\u001b[1;32m    401\u001b[0m \u001b[0;32mclass\u001b[0m \u001b[0mConv3d\u001b[0m\u001b[0;34m(\u001b[0m\u001b[0m_ConvNd\u001b[0m\u001b[0;34m)\u001b[0m\u001b[0;34m:\u001b[0m\u001b[0;34m\u001b[0m\u001b[0;34m\u001b[0m\u001b[0m\n",
            "\u001b[0;32m/usr/local/lib/python3.7/dist-packages/torch/nn/modules/conv.py\u001b[0m in \u001b[0;36m_conv_forward\u001b[0;34m(self, input, weight, bias)\u001b[0m\n\u001b[1;32m    394\u001b[0m                             _pair(0), self.dilation, self.groups)\n\u001b[1;32m    395\u001b[0m         return F.conv2d(input, weight, bias, self.stride,\n\u001b[0;32m--> 396\u001b[0;31m                         self.padding, self.dilation, self.groups)\n\u001b[0m\u001b[1;32m    397\u001b[0m \u001b[0;34m\u001b[0m\u001b[0m\n\u001b[1;32m    398\u001b[0m     \u001b[0;32mdef\u001b[0m \u001b[0mforward\u001b[0m\u001b[0;34m(\u001b[0m\u001b[0mself\u001b[0m\u001b[0;34m,\u001b[0m \u001b[0minput\u001b[0m\u001b[0;34m:\u001b[0m \u001b[0mTensor\u001b[0m\u001b[0;34m)\u001b[0m \u001b[0;34m->\u001b[0m \u001b[0mTensor\u001b[0m\u001b[0;34m:\u001b[0m\u001b[0;34m\u001b[0m\u001b[0;34m\u001b[0m\u001b[0m\n",
            "\u001b[0;31mTypeError\u001b[0m: conv2d(): argument 'input' (position 1) must be Tensor, not CustomDataset"
          ]
        }
      ]
    },
    {
      "cell_type": "code",
      "metadata": {
        "id": "F1bvu1T90lkB"
      },
      "source": [
        "def count_parameters(model):\n",
        "    return sum(p.numel() for p in model.parameters() if p.requires_grad)"
      ],
      "execution_count": null,
      "outputs": []
    },
    {
      "cell_type": "code",
      "metadata": {
        "colab": {
          "base_uri": "https://localhost:8080/"
        },
        "id": "fyjkO-SG0qMA",
        "outputId": "d938fc5e-34e4-4a12-df09-6042b838e509"
      },
      "source": [
        "count_parameters(model)"
      ],
      "execution_count": null,
      "outputs": [
        {
          "output_type": "execute_result",
          "data": {
            "text/plain": [
              "4170400"
            ]
          },
          "metadata": {
            "tags": []
          },
          "execution_count": 111
        }
      ]
    },
    {
      "cell_type": "code",
      "metadata": {
        "id": "fIB83a9v0v3b"
      },
      "source": [
        "learning_rate = 0.0001\n",
        "optimizer = optim.Adam(model.parameters(), lr = learning_rate)\n",
        "if torch.cuda.is_available():\n",
        "    model = model.cuda()"
      ],
      "execution_count": null,
      "outputs": []
    },
    {
      "cell_type": "code",
      "metadata": {
        "colab": {
          "base_uri": "https://localhost:8080/"
        },
        "id": "JnNiy3NG03El",
        "outputId": "f43f2e3d-76f1-4659-825b-4f256c56e5d6"
      },
      "source": [
        "cost = []\n",
        "train_acc = []\n",
        "test_acc = []\n",
        "epochs = 15\n",
        "for epoch in range(epochs):\n",
        "\n",
        "    triplets = get_random_triplets(train)\n",
        "    loader = DataLoader(triplets, batch_size=500)\n",
        "    for i,batch in enumerate(loader):\n",
        "        if torch.cuda.is_available():\n",
        "            apn = model(batch.cuda())\n",
        "        else:\n",
        "            apn = model(batch)\n",
        "\n",
        "        optimizer.zero_grad()\n",
        "        loss = triplet_loss(*apn)\n",
        "        # loss = lossfn(*apn)\n",
        "        cost.append(loss.item())\n",
        "\n",
        "        loss.backward()\n",
        "        optimizer.step()\n",
        "\n",
        "        ####\n",
        "        # sample = torch.cat([model.semi_forward(att_dataset[i][0].unsqueeze(0).cuda()) for i in range(40)])\n",
        "        # total_enc = [model.semi_forward(img.cuda()) for img in dataset]\n",
        "        # pred = [torch.stack([dist(enc,sample).argmin() for enc in total_enc[i]]) for i in range(40)]\n",
        "        # acc1 = sum([(pred[i] == i).sum() for i in range(0,30)]) / 300\n",
        "        # acc2 = sum([(pred[i] == i).sum() for i in range(30,40)]) / 100\n",
        "        # train_acc.append(acc1)\n",
        "        # test_acc.append(acc2)\n",
        "        ####\n",
        "\n",
        "        if i%20==0 :\n",
        "            # print(f'Epoch:[{epoch+1}/{epochs}], Step:[{i+1}/87]', 'Cost : {:.2f}, Train Acc: {:.2f}, Test Acc: {:.2f}'.format(loss.item(), acc1, acc2))\n",
        "            print(f'Epoch:[{epoch+1}/{epochs}], Step:[{i+1}/] Cost : {loss.item()}')"
      ],
      "execution_count": null,
      "outputs": [
        {
          "output_type": "stream",
          "text": [
            "Epoch:[1/15], Step:[1/] Cost : 0.1013384759426117\n",
            "Epoch:[2/15], Step:[1/] Cost : 0.022036762908101082\n",
            "Epoch:[3/15], Step:[1/] Cost : 0.025683056563138962\n",
            "Epoch:[4/15], Step:[1/] Cost : 0.010993736796081066\n",
            "Epoch:[5/15], Step:[1/] Cost : 0.008536777459084988\n",
            "Epoch:[6/15], Step:[1/] Cost : 0.002934434451162815\n",
            "Epoch:[7/15], Step:[1/] Cost : 0.0007567564607597888\n",
            "Epoch:[8/15], Step:[1/] Cost : 0.0024686199612915516\n",
            "Epoch:[9/15], Step:[1/] Cost : 0.0010674004442989826\n",
            "Epoch:[10/15], Step:[1/] Cost : 0.0007982022943906486\n",
            "Epoch:[11/15], Step:[1/] Cost : 0.00036782657844014466\n",
            "Epoch:[12/15], Step:[1/] Cost : 0.00038989612949080765\n",
            "Epoch:[13/15], Step:[1/] Cost : 0.0008638770086690784\n",
            "Epoch:[14/15], Step:[1/] Cost : 0.00015690512373112142\n",
            "Epoch:[15/15], Step:[1/] Cost : 5.4578573326580226e-05\n"
          ],
          "name": "stdout"
        }
      ]
    },
    {
      "cell_type": "code",
      "metadata": {
        "colab": {
          "base_uri": "https://localhost:8080/",
          "height": 606
        },
        "id": "Ftdx3XKW1_x2",
        "outputId": "2c71c83e-16de-4e14-e184-69068a59625e"
      },
      "source": [
        "plt.figure(figsize=(12,10))\n",
        "plt.xlabel('Total Iterations')\n",
        "plt.ylabel('Cost')\n",
        "plt.plot(np.arange(len(cost)), cost, label='cost')\n",
        "# plt.plot(np.arange(len(train_acc)), train_acc, label='train_acc')\n",
        "# plt.plot(np.arange(len(test_acc)), test_acc, label='test_acc')\n",
        "plt.grid(alpha=0.5)\n",
        "plt.legend()\n",
        "# plt.savefig('/content/drive/MyDrive/Colab Notebooks/siamese-orl-loss on 30classes')\n",
        "plt.show()"
      ],
      "execution_count": null,
      "outputs": [
        {
          "output_type": "display_data",
          "data": {
            "image/png": "[encoded data removed]",
            "text/plain": [
              "<Figure size 864x720 with 1 Axes>"
            ]
          },
          "metadata": {
            "tags": [],
            "needs_background": "light"
          }
        }
      ]
    },
    {
      "cell_type": "code",
      "metadata": {
        "id": "yPR6p1dH2Cjh"
      },
      "source": [
        "p = (apn[0] - apn[1]).pow(2).sum(-1)\n",
        "n = (apn[0] - apn[2]).pow(2).sum(-1)"
      ],
      "execution_count": null,
      "outputs": []
    },
    {
      "cell_type": "code",
      "metadata": {
        "colab": {
          "base_uri": "https://localhost:8080/"
        },
        "id": "inkQAxbg2Rsj",
        "outputId": "74e3d307-0bb4-45e2-b65f-f420d48b2df8"
      },
      "source": [
        "p.max() , p.mean() , n.max(), n.mean()\n"
      ],
      "execution_count": null,
      "outputs": [
        {
          "output_type": "execute_result",
          "data": {
            "text/plain": [
              "(tensor(1.4231, device='cuda:0', grad_fn=<MaxBackward1>),\n",
              " tensor(0.8647, device='cuda:0', grad_fn=<MeanBackward0>),\n",
              " tensor(7.3217, device='cuda:0', grad_fn=<MaxBackward1>),\n",
              " tensor(3.6133, device='cuda:0', grad_fn=<MeanBackward0>))"
            ]
          },
          "metadata": {
            "tags": []
          },
          "execution_count": 116
        }
      ]
    },
    {
      "cell_type": "code",
      "metadata": {
        "id": "pd5tZmTI2VAw"
      },
      "source": [
        "def dist(enc1,enc2):\n",
        "    return (enc1 - enc2).pow(2).sum(-1)"
      ],
      "execution_count": null,
      "outputs": []
    },
    {
      "cell_type": "code",
      "metadata": {
        "colab": {
          "base_uri": "https://localhost:8080/"
        },
        "id": "LmCgmDyO2VC_",
        "outputId": "7f63906f-fbac-4033-f4bd-b4de28be659b"
      },
      "source": [
        "torch.set_grad_enabled(False)"
      ],
      "execution_count": null,
      "outputs": [
        {
          "output_type": "execute_result",
          "data": {
            "text/plain": [
              "<torch.autograd.grad_mode.set_grad_enabled at 0x7f408c0db650>"
            ]
          },
          "metadata": {
            "tags": []
          },
          "execution_count": 118
        }
      ]
    },
    {
      "cell_type": "code",
      "metadata": {
        "colab": {
          "base_uri": "https://localhost:8080/"
        },
        "id": "JNe-ehkb2VFY",
        "outputId": "effb9ed5-9fb7-4ddc-8c09-7c8060d1ab63"
      },
      "source": [
        "sample = torch.cat([model.semi_forward(dataset[i][0].unsqueeze(0).cuda()) for i in tqdm(range(40))])\n"
      ],
      "execution_count": null,
      "outputs": [
        {
          "output_type": "stream",
          "text": [
            "100%|██████████| 40/40 [00:00<00:00, 874.40it/s]\n"
          ],
          "name": "stderr"
        }
      ]
    },
    {
      "cell_type": "code",
      "metadata": {
        "colab": {
          "base_uri": "https://localhost:8080/"
        },
        "id": "HTXbOw8C2VHf",
        "outputId": "a39973fd-a57d-4084-8c33-752f5d896a5b"
      },
      "source": [
        "sample.device\n"
      ],
      "execution_count": null,
      "outputs": [
        {
          "output_type": "execute_result",
          "data": {
            "text/plain": [
              "device(type='cuda', index=0)"
            ]
          },
          "metadata": {
            "tags": []
          },
          "execution_count": 120
        }
      ]
    },
    {
      "cell_type": "code",
      "metadata": {
        "colab": {
          "base_uri": "https://localhost:8080/"
        },
        "id": "U4uaGM_G2RwU",
        "outputId": "4a5779c4-36b5-493d-9103-bb82facb3f29"
      },
      "source": [
        "sample.shape\n"
      ],
      "execution_count": null,
      "outputs": [
        {
          "output_type": "execute_result",
          "data": {
            "text/plain": [
              "torch.Size([40, 128])"
            ]
          },
          "metadata": {
            "tags": []
          },
          "execution_count": 121
        }
      ]
    },
    {
      "cell_type": "code",
      "metadata": {
        "colab": {
          "base_uri": "https://localhost:8080/",
          "height": 268
        },
        "id": "IZFqjzqJ2RyN",
        "outputId": "32bd8b6f-6c9f-45d5-c21a-5a23539181f5"
      },
      "source": [
        "Class = 0\n",
        "randImg = dataset[Class][0]\n",
        "plt.imshow(randImg.squeeze(), cmap='gray')\n",
        "renc = model.semi_forward(randImg.unsqueeze(0).cuda())"
      ],
      "execution_count": null,
      "outputs": [
        {
          "output_type": "display_data",
          "data": {
            "image/png": "[encoded data removed]",
            "text/plain": [
              "<Figure size 432x288 with 1 Axes>"
            ]
          },
          "metadata": {
            "tags": [],
            "needs_background": "light"
          }
        }
      ]
    },
    {
      "cell_type": "code",
      "metadata": {
        "colab": {
          "base_uri": "https://localhost:8080/"
        },
        "id": "Wcg5JOQ92R3t",
        "outputId": "b4e24b60-8ea5-475a-e9d1-c488628131e8"
      },
      "source": [
        "dis = dist(renc, sample)\n",
        "dis.argmin(), dis"
      ],
      "execution_count": null,
      "outputs": [
        {
          "output_type": "execute_result",
          "data": {
            "text/plain": [
              "(tensor(0, device='cuda:0'),\n",
              " tensor([0.0000, 2.4852, 5.5270, 1.8431, 3.0656, 2.3418, 1.2660, 1.8373, 1.8809,\n",
              "         1.3492, 4.8949, 2.2838, 2.6625, 5.1208, 2.6684, 1.6107, 3.4180, 3.6100,\n",
              "         2.4952, 2.0669, 4.9787, 1.1611, 2.1805, 4.6542, 4.1450, 3.9852, 4.3040,\n",
              "         2.1565, 3.0525, 2.9782, 2.4489, 1.6495, 2.6570, 1.9603, 1.3391, 2.6215,\n",
              "         2.7621, 2.2655, 6.1738, 1.0774], device='cuda:0'))"
            ]
          },
          "metadata": {
            "tags": []
          },
          "execution_count": 123
        }
      ]
    },
    {
      "cell_type": "code",
      "metadata": {
        "colab": {
          "base_uri": "https://localhost:8080/"
        },
        "id": "9HunvuYy2qj8",
        "outputId": "564d6c82-381d-46cd-f864-9a5ce25a3435"
      },
      "source": [
        "renc\n"
      ],
      "execution_count": null,
      "outputs": [
        {
          "output_type": "execute_result",
          "data": {
            "text/plain": [
              "tensor([[ 0.1448, -0.0399, -0.5426,  0.0916,  0.2374, -0.3261, -0.4788, -0.0273,\n",
              "         -0.7106,  0.2707,  0.8042, -0.3076, -0.4545,  0.1558, -0.2263,  0.0270,\n",
              "         -0.4494,  0.4184,  0.2964, -0.1096,  0.2609, -0.2009,  0.1485, -0.7664,\n",
              "         -0.3512,  0.1075,  0.2969, -0.0733,  0.1780, -0.2396,  0.0896,  0.4529,\n",
              "         -0.5653,  0.4935,  0.0040, -0.4337, -0.4841, -0.1890,  0.4240,  0.1784,\n",
              "          0.1031,  0.2777,  0.1792,  0.0376, -0.1993, -0.5251,  0.3861,  0.2203,\n",
              "         -0.4577, -0.3200,  0.1832,  0.1937, -0.0062,  0.0906,  0.6730,  0.1465,\n",
              "         -0.1673,  0.3216,  0.1639,  0.5662, -0.2152, -0.0341,  0.0590,  0.3524,\n",
              "          0.5156, -0.4711,  0.0957, -0.4234,  0.2156,  0.2359,  0.3063,  0.1152,\n",
              "          1.2758,  0.1220,  0.1210, -0.1754, -0.5689,  0.4966, -0.2213,  0.4086,\n",
              "         -0.1332,  0.2767, -0.6595,  0.0866,  0.0851, -0.2307, -0.4585,  0.2522,\n",
              "         -0.2240,  0.1882, -0.0840, -0.2600,  0.0712, -0.7458,  0.1871, -0.2566,\n",
              "         -0.3060, -0.2350, -0.0726, -0.0880, -0.3461, -0.2516,  0.6420,  0.2575,\n",
              "         -0.4990,  0.1831, -0.7887, -0.2102,  0.3054, -0.3699, -0.4740, -0.0199,\n",
              "         -0.1908, -0.2816, -0.4008, -0.3968, -0.4743,  0.2278, -0.2991, -0.2663,\n",
              "         -0.0229,  0.0629, -0.3231,  0.4158,  0.2983,  0.6757, -0.0851,  0.2083]],\n",
              "       device='cuda:0')"
            ]
          },
          "metadata": {
            "tags": []
          },
          "execution_count": 124
        }
      ]
    },
    {
      "cell_type": "code",
      "metadata": {
        "colab": {
          "base_uri": "https://localhost:8080/"
        },
        "id": "Vnu7UlOJ2qmk",
        "outputId": "ff3d88f1-ae4c-4852-8120-a36cef9df613"
      },
      "source": [
        "sample[0]\n"
      ],
      "execution_count": null,
      "outputs": [
        {
          "output_type": "execute_result",
          "data": {
            "text/plain": [
              "tensor([ 0.1448, -0.0399, -0.5426,  0.0916,  0.2374, -0.3261, -0.4788, -0.0273,\n",
              "        -0.7106,  0.2707,  0.8042, -0.3076, -0.4545,  0.1558, -0.2263,  0.0270,\n",
              "        -0.4494,  0.4184,  0.2964, -0.1096,  0.2609, -0.2009,  0.1485, -0.7664,\n",
              "        -0.3512,  0.1075,  0.2969, -0.0733,  0.1780, -0.2396,  0.0896,  0.4529,\n",
              "        -0.5653,  0.4935,  0.0040, -0.4337, -0.4841, -0.1890,  0.4240,  0.1784,\n",
              "         0.1031,  0.2777,  0.1792,  0.0376, -0.1993, -0.5251,  0.3861,  0.2203,\n",
              "        -0.4577, -0.3200,  0.1832,  0.1937, -0.0062,  0.0906,  0.6730,  0.1465,\n",
              "        -0.1673,  0.3216,  0.1639,  0.5662, -0.2152, -0.0341,  0.0590,  0.3524,\n",
              "         0.5156, -0.4711,  0.0957, -0.4234,  0.2156,  0.2359,  0.3063,  0.1152,\n",
              "         1.2758,  0.1220,  0.1210, -0.1754, -0.5689,  0.4966, -0.2213,  0.4086,\n",
              "        -0.1332,  0.2767, -0.6595,  0.0866,  0.0851, -0.2307, -0.4585,  0.2522,\n",
              "        -0.2240,  0.1882, -0.0840, -0.2600,  0.0712, -0.7458,  0.1871, -0.2566,\n",
              "        -0.3060, -0.2350, -0.0726, -0.0880, -0.3461, -0.2516,  0.6420,  0.2575,\n",
              "        -0.4990,  0.1831, -0.7887, -0.2102,  0.3054, -0.3699, -0.4740, -0.0199,\n",
              "        -0.1908, -0.2816, -0.4008, -0.3968, -0.4743,  0.2278, -0.2991, -0.2663,\n",
              "        -0.0229,  0.0629, -0.3231,  0.4158,  0.2983,  0.6757, -0.0851,  0.2083],\n",
              "       device='cuda:0')"
            ]
          },
          "metadata": {
            "tags": []
          },
          "execution_count": 125
        }
      ]
    },
    {
      "cell_type": "code",
      "metadata": {
        "colab": {
          "base_uri": "https://localhost:8080/"
        },
        "id": "kbyezNz62yVs",
        "outputId": "2b28a963-d265-4b05-d951-1e70eeac10b0"
      },
      "source": [
        "model.semi_forward(dataset[0][0].unsqueeze(0).cuda())\n"
      ],
      "execution_count": null,
      "outputs": [
        {
          "output_type": "execute_result",
          "data": {
            "text/plain": [
              "tensor([[ 0.1448, -0.0399, -0.5426,  0.0916,  0.2374, -0.3261, -0.4788, -0.0273,\n",
              "         -0.7106,  0.2707,  0.8042, -0.3076, -0.4545,  0.1558, -0.2263,  0.0270,\n",
              "         -0.4494,  0.4184,  0.2964, -0.1096,  0.2609, -0.2009,  0.1485, -0.7664,\n",
              "         -0.3512,  0.1075,  0.2969, -0.0733,  0.1780, -0.2396,  0.0896,  0.4529,\n",
              "         -0.5653,  0.4935,  0.0040, -0.4337, -0.4841, -0.1890,  0.4240,  0.1784,\n",
              "          0.1031,  0.2777,  0.1792,  0.0376, -0.1993, -0.5251,  0.3861,  0.2203,\n",
              "         -0.4577, -0.3200,  0.1832,  0.1937, -0.0062,  0.0906,  0.6730,  0.1465,\n",
              "         -0.1673,  0.3216,  0.1639,  0.5662, -0.2152, -0.0341,  0.0590,  0.3524,\n",
              "          0.5156, -0.4711,  0.0957, -0.4234,  0.2156,  0.2359,  0.3063,  0.1152,\n",
              "          1.2758,  0.1220,  0.1210, -0.1754, -0.5689,  0.4966, -0.2213,  0.4086,\n",
              "         -0.1332,  0.2767, -0.6595,  0.0866,  0.0851, -0.2307, -0.4585,  0.2522,\n",
              "         -0.2240,  0.1882, -0.0840, -0.2600,  0.0712, -0.7458,  0.1871, -0.2566,\n",
              "         -0.3060, -0.2350, -0.0726, -0.0880, -0.3461, -0.2516,  0.6420,  0.2575,\n",
              "         -0.4990,  0.1831, -0.7887, -0.2102,  0.3054, -0.3699, -0.4740, -0.0199,\n",
              "         -0.1908, -0.2816, -0.4008, -0.3968, -0.4743,  0.2278, -0.2991, -0.2663,\n",
              "         -0.0229,  0.0629, -0.3231,  0.4158,  0.2983,  0.6757, -0.0851,  0.2083]],\n",
              "       device='cuda:0')"
            ]
          },
          "metadata": {
            "tags": []
          },
          "execution_count": 126
        }
      ]
    },
    {
      "cell_type": "code",
      "metadata": {
        "colab": {
          "base_uri": "https://localhost:8080/"
        },
        "id": "n6mhBe352yY3",
        "outputId": "1e112f08-5458-46e0-d205-050dc09271b1"
      },
      "source": [
        "model.semi_forward(dataset[0].cuda())[0]\n"
      ],
      "execution_count": null,
      "outputs": [
        {
          "output_type": "execute_result",
          "data": {
            "text/plain": [
              "tensor([ 0.0990, -0.0656, -0.5216,  0.0893,  0.3054, -0.3207, -0.4283, -0.0439,\n",
              "        -0.6599,  0.2642,  0.7645, -0.2556, -0.4409,  0.1833, -0.2206,  0.0608,\n",
              "        -0.3695,  0.4170,  0.2920, -0.1149,  0.3234, -0.1763,  0.1087, -0.6943,\n",
              "        -0.3557,  0.0838,  0.2669, -0.0606,  0.1957, -0.2395,  0.0755,  0.4050,\n",
              "        -0.5374,  0.4696, -0.0072, -0.4600, -0.4399, -0.1582,  0.3977,  0.2066,\n",
              "         0.0327,  0.2107,  0.1701,  0.0496, -0.2357, -0.4884,  0.3157,  0.2243,\n",
              "        -0.4825, -0.3090,  0.1519,  0.1729, -0.0112,  0.0555,  0.6401,  0.1452,\n",
              "        -0.1559,  0.2669,  0.1675,  0.5993, -0.1999, -0.0643,  0.0521,  0.4112,\n",
              "         0.4606, -0.4671,  0.1165, -0.4274,  0.1472,  0.2229,  0.2869,  0.0813,\n",
              "         1.2140,  0.1154,  0.0958, -0.1668, -0.6180,  0.4908, -0.1860,  0.3495,\n",
              "        -0.0640,  0.2953, -0.6725,  0.0767,  0.0950, -0.2475, -0.4634,  0.2136,\n",
              "        -0.1991,  0.2051, -0.0626, -0.2362,  0.0792, -0.7086,  0.1776, -0.2701,\n",
              "        -0.2701, -0.2346, -0.1097, -0.0579, -0.3795, -0.2358,  0.5953,  0.2467,\n",
              "        -0.4537,  0.1503, -0.7934, -0.2131,  0.2719, -0.3239, -0.4068,  0.0133,\n",
              "        -0.1458, -0.2422, -0.4150, -0.3730, -0.4752,  0.2078, -0.2462, -0.2861,\n",
              "        -0.0237,  0.0933, -0.3219,  0.3533,  0.2470,  0.6146, -0.1246,  0.1622],\n",
              "       device='cuda:0')"
            ]
          },
          "metadata": {
            "tags": []
          },
          "execution_count": 127
        }
      ]
    },
    {
      "cell_type": "code",
      "metadata": {
        "colab": {
          "base_uri": "https://localhost:8080/"
        },
        "id": "krqvZA5h3R0H",
        "outputId": "b0ffff6e-b8ec-4ffc-fd15-d64ef16b7e27"
      },
      "source": [
        "total_enc = [model.semi_forward(dataset[i].cuda()) for i in tqdm(range(40))]\n"
      ],
      "execution_count": null,
      "outputs": [
        {
          "output_type": "stream",
          "text": [
            "100%|██████████| 40/40 [00:00<00:00, 198.66it/s]\n"
          ],
          "name": "stderr"
        }
      ]
    },
    {
      "cell_type": "code",
      "metadata": {
        "colab": {
          "base_uri": "https://localhost:8080/"
        },
        "id": "QQs9GO6623rs",
        "outputId": "a473aa5d-f4fa-4520-c3fe-40bf02ef5f94"
      },
      "source": [
        "total_enc[0][0]\n"
      ],
      "execution_count": null,
      "outputs": [
        {
          "output_type": "execute_result",
          "data": {
            "text/plain": [
              "tensor([ 0.0990, -0.0656, -0.5216,  0.0893,  0.3054, -0.3207, -0.4283, -0.0439,\n",
              "        -0.6599,  0.2642,  0.7645, -0.2556, -0.4409,  0.1833, -0.2206,  0.0608,\n",
              "        -0.3695,  0.4170,  0.2920, -0.1149,  0.3234, -0.1763,  0.1087, -0.6943,\n",
              "        -0.3557,  0.0838,  0.2669, -0.0606,  0.1957, -0.2395,  0.0755,  0.4050,\n",
              "        -0.5374,  0.4696, -0.0072, -0.4600, -0.4399, -0.1582,  0.3977,  0.2066,\n",
              "         0.0327,  0.2107,  0.1701,  0.0496, -0.2357, -0.4884,  0.3157,  0.2243,\n",
              "        -0.4825, -0.3090,  0.1519,  0.1729, -0.0112,  0.0555,  0.6401,  0.1452,\n",
              "        -0.1559,  0.2669,  0.1675,  0.5993, -0.1999, -0.0643,  0.0521,  0.4112,\n",
              "         0.4606, -0.4671,  0.1165, -0.4274,  0.1472,  0.2229,  0.2869,  0.0813,\n",
              "         1.2140,  0.1154,  0.0958, -0.1668, -0.6180,  0.4908, -0.1860,  0.3495,\n",
              "        -0.0640,  0.2953, -0.6725,  0.0767,  0.0950, -0.2475, -0.4634,  0.2136,\n",
              "        -0.1991,  0.2051, -0.0626, -0.2362,  0.0792, -0.7086,  0.1776, -0.2701,\n",
              "        -0.2701, -0.2346, -0.1097, -0.0579, -0.3795, -0.2358,  0.5953,  0.2467,\n",
              "        -0.4537,  0.1503, -0.7934, -0.2131,  0.2719, -0.3239, -0.4068,  0.0133,\n",
              "        -0.1458, -0.2422, -0.4150, -0.3730, -0.4752,  0.2078, -0.2462, -0.2861,\n",
              "        -0.0237,  0.0933, -0.3219,  0.3533,  0.2470,  0.6146, -0.1246,  0.1622],\n",
              "       device='cuda:0')"
            ]
          },
          "metadata": {
            "tags": []
          },
          "execution_count": 130
        }
      ]
    },
    {
      "cell_type": "code",
      "metadata": {
        "colab": {
          "base_uri": "https://localhost:8080/"
        },
        "id": "SEdmxY2e23uL",
        "outputId": "839fea9f-67ae-414e-e0c7-33f80d157d6b"
      },
      "source": [
        "pred = [torch.stack([dist(enc,sample).argmin() for enc in total_enc[i]]) for i in range(40)]\n",
        "print(*pred, sep='\\n')"
      ],
      "execution_count": null,
      "outputs": [
        {
          "output_type": "stream",
          "text": [
            "tensor([0, 0, 9, 9, 0, 0, 9, 9, 9, 9], device='cuda:0')\n",
            "tensor([1, 1, 1, 1, 1, 1, 1, 1, 1, 1], device='cuda:0')\n",
            "tensor([2, 2, 2, 2, 2, 2, 2, 2, 2, 2], device='cuda:0')\n",
            "tensor([3, 9, 3, 3, 3, 3, 3, 3, 3, 3], device='cuda:0')\n",
            "tensor([ 4,  4,  4,  4,  4, 11,  4,  4,  4,  4], device='cuda:0')\n",
            "tensor([ 5,  5,  5,  5,  5, 33, 32,  5,  5,  5], device='cuda:0')\n",
            "tensor([6, 6, 6, 6, 6, 6, 6, 6, 6, 6], device='cuda:0')\n",
            "tensor([7, 7, 7, 7, 7, 7, 7, 7, 7, 7], device='cuda:0')\n",
            "tensor([8, 8, 8, 8, 8, 8, 8, 8, 8, 8], device='cuda:0')\n",
            "tensor([9, 9, 9, 9, 9, 9, 9, 9, 9, 9], device='cuda:0')\n",
            "tensor([10, 10, 20,  3, 10, 10, 10, 10, 10, 10], device='cuda:0')\n",
            "tensor([11, 11, 33, 11, 11, 11, 11, 11, 11, 33], device='cuda:0')\n",
            "tensor([12, 12, 12, 12, 12, 12, 12, 12, 12, 12], device='cuda:0')\n",
            "tensor([13, 20, 36, 13, 20, 13, 13, 20, 13, 20], device='cuda:0')\n",
            "tensor([14, 14, 14, 14, 14, 14, 14, 14, 14, 14], device='cuda:0')\n",
            "tensor([15, 15, 15, 15, 15, 15, 15, 15, 15, 15], device='cuda:0')\n",
            "tensor([16, 14, 38, 16, 22, 38, 16, 33, 16, 33], device='cuda:0')\n",
            "tensor([17, 17, 36, 17, 36, 17, 36, 17, 36, 17], device='cuda:0')\n",
            "tensor([18, 30, 18, 30, 18, 30, 18, 18, 18, 18], device='cuda:0')\n",
            "tensor([19, 19, 21, 19, 19, 21, 19, 19, 21, 19], device='cuda:0')\n",
            "tensor([20, 20, 20, 20, 20, 20, 20, 36, 20, 20], device='cuda:0')\n",
            "tensor([21, 21, 21, 21, 21, 21, 21, 21, 21, 21], device='cuda:0')\n",
            "tensor([22, 33, 38, 22, 38, 22, 22, 16, 22, 19], device='cuda:0')\n",
            "tensor([23, 23, 23, 23, 23, 23, 23, 23, 23, 23], device='cuda:0')\n",
            "tensor([24, 24, 24, 24, 24, 24, 24, 24, 36, 24], device='cuda:0')\n",
            "tensor([25, 25, 25, 25, 25, 25, 25, 25, 25, 25], device='cuda:0')\n",
            "tensor([26, 26, 26, 26, 26, 26, 26, 26, 26, 26], device='cuda:0')\n",
            "tensor([27, 27, 27, 27, 27, 27, 27, 32, 27, 27], device='cuda:0')\n",
            "tensor([28,  3, 28, 28, 28, 28, 28, 28, 28, 28], device='cuda:0')\n",
            "tensor([29, 29, 29, 29, 29, 29, 29, 29, 29, 29], device='cuda:0')\n",
            "tensor([30, 30, 36, 30, 30, 30,  9, 30, 30, 30], device='cuda:0')\n",
            "tensor([31,  3, 31, 33, 31, 33, 34, 31,  9, 31], device='cuda:0')\n",
            "tensor([32, 32, 32, 32, 32, 32, 32, 32, 32, 32], device='cuda:0')\n",
            "tensor([33, 33, 33, 33, 33, 33, 33, 33, 33, 33], device='cuda:0')\n",
            "tensor([34,  9, 34, 34, 34, 34, 34,  9,  9, 34], device='cuda:0')\n",
            "tensor([35, 32, 35, 35, 33, 32, 33, 35, 32, 18], device='cuda:0')\n",
            "tensor([36, 36, 36, 36, 36, 36, 26, 36, 26,  2], device='cuda:0')\n",
            "tensor([37, 37, 33, 33, 24, 37, 24, 33, 37, 24], device='cuda:0')\n",
            "tensor([38, 38, 16, 25, 38, 38, 38, 33, 38, 22], device='cuda:0')\n",
            "tensor([39, 39,  0, 39, 39, 39,  0, 39, 39, 39], device='cuda:0')\n"
          ],
          "name": "stdout"
        }
      ]
    },
    {
      "cell_type": "code",
      "metadata": {
        "colab": {
          "base_uri": "https://localhost:8080/"
        },
        "id": "dWu_WTt123wh",
        "outputId": "83916a59-e1b9-4296-f2d5-bb34495fd7e5"
      },
      "source": [
        "sum([(pred[i] == i).sum() for i in range(0,30)]) / 300\n"
      ],
      "execution_count": null,
      "outputs": [
        {
          "output_type": "execute_result",
          "data": {
            "text/plain": [
              "tensor(0.8533, device='cuda:0')"
            ]
          },
          "metadata": {
            "tags": []
          },
          "execution_count": 132
        }
      ]
    },
    {
      "cell_type": "code",
      "metadata": {
        "colab": {
          "base_uri": "https://localhost:8080/"
        },
        "id": "vx5ZyjQe2ybw",
        "outputId": "2e3d66d1-da52-4858-cb8e-90068a4f40a4"
      },
      "source": [
        "tc = []\n",
        "for i in range(0,40):\n",
        "    corr = (pred[i] == i).sum()\n",
        "    print(f'(Claas {i})', corr.item(), 'out of 10')\n",
        "    tc.append(corr.item())\n",
        "\n",
        "print('Train Accuracy = ', sum(tc[:30])/3, '%')\n",
        "print('Test Accuracy = ', sum(tc[30:])/1, '%')\n",
        "print('Total Accuracy = ', sum(tc)/4, '%')"
      ],
      "execution_count": null,
      "outputs": [
        {
          "output_type": "stream",
          "text": [
            "(Claas 0) 4 out of 10\n",
            "(Claas 1) 10 out of 10\n",
            "(Claas 2) 10 out of 10\n",
            "(Claas 3) 9 out of 10\n",
            "(Claas 4) 9 out of 10\n",
            "(Claas 5) 8 out of 10\n",
            "(Claas 6) 10 out of 10\n",
            "(Claas 7) 10 out of 10\n",
            "(Claas 8) 10 out of 10\n",
            "(Claas 9) 10 out of 10\n",
            "(Claas 10) 8 out of 10\n",
            "(Claas 11) 8 out of 10\n",
            "(Claas 12) 10 out of 10\n",
            "(Claas 13) 5 out of 10\n",
            "(Claas 14) 10 out of 10\n",
            "(Claas 15) 10 out of 10\n",
            "(Claas 16) 4 out of 10\n",
            "(Claas 17) 6 out of 10\n",
            "(Claas 18) 7 out of 10\n",
            "(Claas 19) 7 out of 10\n",
            "(Claas 20) 9 out of 10\n",
            "(Claas 21) 10 out of 10\n",
            "(Claas 22) 5 out of 10\n",
            "(Claas 23) 10 out of 10\n",
            "(Claas 24) 9 out of 10\n",
            "(Claas 25) 10 out of 10\n",
            "(Claas 26) 10 out of 10\n",
            "(Claas 27) 9 out of 10\n",
            "(Claas 28) 9 out of 10\n",
            "(Claas 29) 10 out of 10\n",
            "(Claas 30) 8 out of 10\n",
            "(Claas 31) 5 out of 10\n",
            "(Claas 32) 10 out of 10\n",
            "(Claas 33) 10 out of 10\n",
            "(Claas 34) 7 out of 10\n",
            "(Claas 35) 4 out of 10\n",
            "(Claas 36) 7 out of 10\n",
            "(Claas 37) 4 out of 10\n",
            "(Claas 38) 6 out of 10\n",
            "(Claas 39) 8 out of 10\n",
            "Train Accuracy =  85.33333333333333 %\n",
            "Test Accuracy =  69.0 %\n",
            "Total Accuracy =  81.25 %\n"
          ],
          "name": "stdout"
        }
      ]
    },
    {
      "cell_type": "code",
      "metadata": {
        "id": "n8fGa8Et3XSr"
      },
      "source": [
        "_,axxr = plt.subplots(40,10, figsize=(12,60))\n",
        "for i in range(40):\n",
        "    for j in range(10):\n",
        "        axxr[i][j].imshow(att_dataset[i][j].squeeze(), cmap='gray')\n",
        "        if pred[i][j] == i:\n",
        "            axxr[i][j].text(0.5,1,f'Pred={i}', color='green', fontsize=15)\n",
        "        else:\n",
        "            axxr[i][j].text(0.5,1,f'Pred={pred[i][j].item()}', color='red', fontsize=15)\n",
        "plt.setp(plt.gcf().get_axes(), xticks=[], yticks=[])\n",
        "# ref : https://stackoverflow.com/questions/25124143/matplotlib-subplots-get-rid-of-tick-labels-altogether\n",
        "# plt.savefig('/content/drive/MyDrive/Colab Notebooks/prediction_results of all 40 classes.png', dpi=200)\n",
        "plt.show()"
      ],
      "execution_count": null,
      "outputs": []
    },
    {
      "cell_type": "code",
      "metadata": {
        "id": "45NWB4HO3XcW"
      },
      "source": [],
      "execution_count": null,
      "outputs": []
    },
    {
      "cell_type": "code",
      "metadata": {
        "id": "cwfkl-U73Xf8"
      },
      "source": [],
      "execution_count": null,
      "outputs": []
    },
    {
      "cell_type": "code",
      "metadata": {
        "id": "xN2WVIty2qpV"
      },
      "source": [],
      "execution_count": null,
      "outputs": []
    },
    {
      "cell_type": "code",
      "metadata": {
        "id": "nMsmPrP59uvI"
      },
      "source": [
        "import glob\n",
        "import numpy as np\n",
        "import random\n",
        "import matplotlib.pyplot as plt\n",
        "from PIL import Image\n",
        "from itertools import combinations\n",
        "from collections import OrderedDict\n",
        "from tqdm import tqdm\n",
        "\n",
        "import torch\n",
        "import torch.nn as nn\n",
        "import torch.nn.functional as F\n",
        "import torch.optim as optim\n",
        "from torch.utils.data import Dataset, DataLoader\n",
        "\n",
        "import torchvision\n",
        "import torchvision.transforms as transforms"
      ],
      "execution_count": null,
      "outputs": []
    },
    {
      "cell_type": "code",
      "metadata": {
        "colab": {
          "base_uri": "https://localhost:8080/"
        },
        "id": "RFzYygcy9uvO",
        "outputId": "d508783f-6725-4290-959a-d7f547ba924e"
      },
      "source": [
        "torch.cuda.is_available()"
      ],
      "execution_count": null,
      "outputs": [
        {
          "output_type": "execute_result",
          "data": {
            "text/plain": [
              "True"
            ]
          },
          "metadata": {
            "tags": []
          },
          "execution_count": 86
        }
      ]
    },
    {
      "cell_type": "code",
      "metadata": {
        "id": "xQynJEWS9uvQ"
      },
      "source": [
        "PATH = '/content/drive/My Drive/ColabNotebooks/att_face_dataset/att_face_dataset/'"
      ],
      "execution_count": null,
      "outputs": []
    },
    {
      "cell_type": "code",
      "metadata": {
        "id": "YE11IF689uvR"
      },
      "source": [
        "class CustomDataset(Dataset):\n",
        "\n",
        "    def __init__(self, path, transform=transforms.ToTensor()):\n",
        "        self.dirs = glob.glob(f'{path}*/')\n",
        "        self.transform = transform\n",
        "\n",
        "        self.total_images = self._get_images(self.dirs, self.transform)\n",
        "\n",
        "    def _get_images(self, dirs, transform):\n",
        "        ti = []\n",
        "        for dir in tqdm(dirs):\n",
        "#             images = [transform(Image.open(image)).squeeze() for image in glob.glob(f'{dir}*')]\n",
        "            images = [transform(Image.open(image)) for image in glob.glob(f'{dir}*')]\n",
        "            ti.append(images)\n",
        "        return ti\n",
        "\n",
        "    def __len__(self):\n",
        "        return self.dirs.__len__()\n",
        "\n",
        "    def __getitem__(self,idx):\n",
        "        return torch.stack(self.total_images[idx], dim=0)\n",
        "# ref : https://pytorch.org/tutorials/beginner/data_loading_tutorial.html"
      ],
      "execution_count": null,
      "outputs": []
    },
    {
      "cell_type": "code",
      "metadata": {
        "colab": {
          "base_uri": "https://localhost:8080/"
        },
        "id": "7_KCL0Pa9uvR",
        "outputId": "6077c4ce-276e-40af-bdac-7b7395c9ee1b"
      },
      "source": [
        "att_dataset = CustomDataset(PATH)"
      ],
      "execution_count": null,
      "outputs": [
        {
          "output_type": "stream",
          "text": [
            "100%|██████████| 40/40 [01:36<00:00,  2.42s/it]\n"
          ],
          "name": "stderr"
        }
      ]
    },
    {
      "cell_type": "code",
      "metadata": {
        "colab": {
          "base_uri": "https://localhost:8080/"
        },
        "id": "8VwEWjZA9uvR",
        "outputId": "e48d28b9-ce6c-4662-c969-f503933780b0"
      },
      "source": [
        "len(att_dataset)\n"
      ],
      "execution_count": null,
      "outputs": [
        {
          "output_type": "execute_result",
          "data": {
            "text/plain": [
              "40"
            ]
          },
          "metadata": {
            "tags": []
          },
          "execution_count": 90
        }
      ]
    },
    {
      "cell_type": "code",
      "metadata": {
        "colab": {
          "base_uri": "https://localhost:8080/"
        },
        "id": "HLnNKVaD9uvS",
        "outputId": "fa3fe9bb-3e44-4388-b2d4-173dc018f8a6"
      },
      "source": [
        "att_dataset"
      ],
      "execution_count": null,
      "outputs": [
        {
          "output_type": "execute_result",
          "data": {
            "text/plain": [
              "<__main__.CustomDataset at 0x7f40a13a5c10>"
            ]
          },
          "metadata": {
            "tags": []
          },
          "execution_count": 108
        }
      ]
    },
    {
      "cell_type": "code",
      "metadata": {
        "colab": {
          "base_uri": "https://localhost:8080/"
        },
        "id": "l8Ij2yJi9uvS",
        "outputId": "9088c377-124b-4253-e7b7-4b24c76960df"
      },
      "source": [
        "att_dataset[0].shape"
      ],
      "execution_count": null,
      "outputs": [
        {
          "output_type": "execute_result",
          "data": {
            "text/plain": [
              "torch.Size([10, 1, 112, 92])"
            ]
          },
          "metadata": {
            "tags": []
          },
          "execution_count": 91
        }
      ]
    },
    {
      "cell_type": "code",
      "metadata": {
        "id": "ZryBgENp9uvT"
      },
      "source": [
        "_,axxr = plt.subplots(40,10, figsize=(12,60))\n",
        "for i in range(40):\n",
        "    for j in range(10):\n",
        "        axxr[i][j].imshow(att_dataset[i][j].squeeze(), cmap='gray')\n",
        "plt.setp(plt.gcf().get_axes(), xticks=[], yticks=[])\n",
        "# ref : https://stackoverflow.com/questions/25124143/matplotlib-subplots-get-rid-of-tick-labels-altogether\n",
        "plt.show()"
      ],
      "execution_count": null,
      "outputs": []
    },
    {
      "cell_type": "code",
      "metadata": {
        "id": "jUCKOZOb9uvT"
      },
      "source": [
        "def triplet_loss(anchor, positive, negative, margin=0.2):\n",
        "    pos_dist = (anchor - positive).pow(2).sum(-1) #.pow(.5)\n",
        "    neg_dist = (anchor - negative).pow(2).sum(-1) #.pow(.5)\n",
        "    loss = F.relu(pos_dist - neg_dist + margin)\n",
        "    return loss.mean()\n",
        "\n",
        "# ref: https://github.com/adambielski/siamese-triplet/blob/master/losses.py#L24"
      ],
      "execution_count": null,
      "outputs": []
    },
    {
      "cell_type": "code",
      "metadata": {
        "id": "JKFvCD3t9uvT"
      },
      "source": [
        "def get_random_triplets(embeddings,  targets=None) -> torch.Tensor:\n",
        "    '''\n",
        "    For each image in data (Anchor), randomly sample a Positive image from its class.\n",
        "    Then from each of the other classes sample one image (randomly) as the Negative. Hence, for every Anchor\n",
        "    you will have 1 randomly selected positive from it's class and randomly selected Negative from each of the n-1 classes\n",
        "    where n is total number of classes.  For every Anchor image you would have n-1 triplets.\n",
        "    So if you're having 3 classes of 10 images each then you would have 60 triplets.\n",
        "    '''\n",
        "\n",
        "\n",
        "#     assert len(embeddings) == len(targets) , \"Embeddings and Targets must have same lenght\"\n",
        "\n",
        "    triplets = []\n",
        "    for i, embedding in enumerate(embeddings):\n",
        "        temp = embeddings.pop(i)\n",
        "\n",
        "        for anchor in embedding:\n",
        "            positive = random.choice(embedding)\n",
        "\n",
        "            for negatives in embeddings:\n",
        "                negative = random.choice(negatives)\n",
        "\n",
        "                triplets.append(torch.stack([anchor, positive, negative], dim=0))\n",
        "\n",
        "        embeddings.insert(i, temp)\n",
        "\n",
        "    return torch.stack(triplets, dim=0)"
      ],
      "execution_count": null,
      "outputs": []
    },
    {
      "cell_type": "code",
      "metadata": {
        "id": "9IqUMgUQ9uvU"
      },
      "source": [
        "dataset = list(att_dataset)\n"
      ],
      "execution_count": null,
      "outputs": []
    },
    {
      "cell_type": "code",
      "metadata": {
        "id": "ToGs0TaN9uvU"
      },
      "source": [
        "train = dataset[0:30]\n"
      ],
      "execution_count": null,
      "outputs": []
    },
    {
      "cell_type": "code",
      "metadata": {
        "colab": {
          "base_uri": "https://localhost:8080/"
        },
        "id": "Q5XMi6PH9uvW",
        "outputId": "ccbb49bf-536a-4028-8b43-8266c35f307d"
      },
      "source": [
        "len(train)\n"
      ],
      "execution_count": null,
      "outputs": [
        {
          "output_type": "execute_result",
          "data": {
            "text/plain": [
              "30"
            ]
          },
          "metadata": {
            "tags": []
          },
          "execution_count": 97
        }
      ]
    },
    {
      "cell_type": "code",
      "metadata": {
        "id": "D94TKrFU9uvW"
      },
      "source": [
        "test = dataset[30:]\n"
      ],
      "execution_count": null,
      "outputs": []
    },
    {
      "cell_type": "code",
      "metadata": {
        "colab": {
          "base_uri": "https://localhost:8080/"
        },
        "id": "Aq_GtAK79uvW",
        "outputId": "abe63dcd-4e20-40ba-8a5d-5e7720ccdb02"
      },
      "source": [
        "len(test)\n"
      ],
      "execution_count": null,
      "outputs": [
        {
          "output_type": "execute_result",
          "data": {
            "text/plain": [
              "10"
            ]
          },
          "metadata": {
            "tags": []
          },
          "execution_count": 99
        }
      ]
    },
    {
      "cell_type": "code",
      "metadata": {
        "id": "aujMdwKx9uvX"
      },
      "source": [
        "triplets = get_random_triplets(train)\n"
      ],
      "execution_count": null,
      "outputs": []
    },
    {
      "cell_type": "code",
      "metadata": {
        "colab": {
          "base_uri": "https://localhost:8080/"
        },
        "id": "_raa2cYu9uvX",
        "outputId": "5f267477-a1a4-4e09-f01e-808e37ded1f4"
      },
      "source": [
        "triplets.shape\n"
      ],
      "execution_count": null,
      "outputs": [
        {
          "output_type": "execute_result",
          "data": {
            "text/plain": [
              "torch.Size([8700, 3, 1, 112, 92])"
            ]
          },
          "metadata": {
            "tags": []
          },
          "execution_count": 102
        }
      ]
    },
    {
      "cell_type": "code",
      "metadata": {
        "id": "WBS9e00q9uvX"
      },
      "source": [
        "class Model(nn.Module):\n",
        "    def __init__(self):\n",
        "        super(Model, self).__init__()\n",
        "\n",
        "        self.convnet1 = nn.Sequential(OrderedDict([\n",
        "                            ('conv1', nn.Conv2d(in_channels=1, out_channels=16, kernel_size=(7,5))),\n",
        "                            ('conv2', nn.Conv2d(in_channels=16, out_channels=32, kernel_size=(5,3))),\n",
        "                            ('norm', nn.BatchNorm2d(32)),\n",
        "                            ('actv', nn.ReLU(inplace=True)),\n",
        "                            ('pool', nn.MaxPool2d(kernel_size=3, stride=2))\n",
        "        ]))\n",
        "        # ref : https://discuss.pytorch.org/t/is-it-possible-to-specify-a-name-for-each-layer-when-creating-the-model/33637/2\n",
        "\n",
        "        self.convnet2 = nn.Sequential(OrderedDict([\n",
        "                            ('conv1', nn.Conv2d(in_channels=32, out_channels=64, kernel_size=3)),\n",
        "                            ('conv2', nn.Conv2d(in_channels=64, out_channels=64, kernel_size=3)),\n",
        "                            ('norm', nn.BatchNorm2d(64)),\n",
        "                            ('actv', nn.ReLU(inplace=True)),\n",
        "                            ('pool', nn.MaxPool2d(kernel_size=3, stride=2))\n",
        "        ]))\n",
        "\n",
        "        self.convnet3 = nn.Sequential(OrderedDict([\n",
        "                            ('conv1', nn.Conv2d(in_channels=64, out_channels=128, kernel_size=3)),\n",
        "                            ('conv2', nn.Conv2d(in_channels=128, out_channels=128, kernel_size=3)),\n",
        "                            ('norm', nn.BatchNorm2d(128)),\n",
        "                            ('actv', nn.ReLU(inplace=True)),\n",
        "                            ('pool', nn.MaxPool2d(kernel_size=3, stride=2))\n",
        "        ]))\n",
        "\n",
        "        self.conv     = nn.Conv2d(in_channels=128, out_channels=128, kernel_size=3)\n",
        "\n",
        "        self.FCs      = nn.Sequential(OrderedDict([\n",
        "                            ('FC1', nn.Linear(in_features=3072, out_features=1024)),\n",
        "                            ('relu1', nn.ReLU(inplace=True)),\n",
        "                            ('FC2', nn.Linear(in_features=1024, out_features=512)),\n",
        "                            ('relu2', nn.ReLU(inplace=True)),\n",
        "                            ('FC3', nn.Linear(in_features=512, out_features=128)),\n",
        "                            # ('relu3', nn.ReLU(inplace=True)),\n",
        "        ]))\n",
        "\n",
        "\n",
        "        for m in self.modules():\n",
        "            classname = m.__class__.__name__\n",
        "            if classname.find('Conv') != -1:\n",
        "                nn.init.kaiming_normal_(m.weight.data, nonlinearity='relu')  # He-initialization\n",
        "                # ref : https://pytorch.org/docs/stable/nn.init.html#torch.nn.init.kaiming_normal_\n",
        "\n",
        "    def semi_forward(self, x):\n",
        "        x = self.convnet1(x)\n",
        "        x = self.convnet2(x)\n",
        "        x = self.convnet3(x)\n",
        "        x = self.conv(x)\n",
        "        x = x.view(-1, 6*4*128)\n",
        "        # x = x.reshape(-1, 10*6*128)\n",
        "        x = self.FCs(x)\n",
        "        return x\n",
        "\n",
        "    def forward(self,triplet):\n",
        "        anc = self.semi_forward(triplet[:,0,...])\n",
        "        pos = self.semi_forward(triplet[:,1,...])\n",
        "        neg = self.semi_forward(triplet[:,2,...])\n",
        "        return [anc, pos, neg]"
      ],
      "execution_count": null,
      "outputs": []
    },
    {
      "cell_type": "code",
      "metadata": {
        "colab": {
          "base_uri": "https://localhost:8080/"
        },
        "id": "RS8MqU339uvX",
        "outputId": "e0913fee-ebd2-43e8-f6ef-3a4bd15b631a"
      },
      "source": [
        "model = Model()\n",
        "model"
      ],
      "execution_count": null,
      "outputs": [
        {
          "output_type": "execute_result",
          "data": {
            "text/plain": [
              "Model(\n",
              "  (convnet1): Sequential(\n",
              "    (conv1): Conv2d(1, 16, kernel_size=(7, 5), stride=(1, 1))\n",
              "    (conv2): Conv2d(16, 32, kernel_size=(5, 3), stride=(1, 1))\n",
              "    (norm): BatchNorm2d(32, eps=1e-05, momentum=0.1, affine=True, track_running_stats=True)\n",
              "    (actv): ReLU(inplace=True)\n",
              "    (pool): MaxPool2d(kernel_size=3, stride=2, padding=0, dilation=1, ceil_mode=False)\n",
              "  )\n",
              "  (convnet2): Sequential(\n",
              "    (conv1): Conv2d(32, 64, kernel_size=(3, 3), stride=(1, 1))\n",
              "    (conv2): Conv2d(64, 64, kernel_size=(3, 3), stride=(1, 1))\n",
              "    (norm): BatchNorm2d(64, eps=1e-05, momentum=0.1, affine=True, track_running_stats=True)\n",
              "    (actv): ReLU(inplace=True)\n",
              "    (pool): MaxPool2d(kernel_size=3, stride=2, padding=0, dilation=1, ceil_mode=False)\n",
              "  )\n",
              "  (convnet3): Sequential(\n",
              "    (conv1): Conv2d(64, 128, kernel_size=(3, 3), stride=(1, 1))\n",
              "    (conv2): Conv2d(128, 128, kernel_size=(3, 3), stride=(1, 1))\n",
              "    (norm): BatchNorm2d(128, eps=1e-05, momentum=0.1, affine=True, track_running_stats=True)\n",
              "    (actv): ReLU(inplace=True)\n",
              "    (pool): MaxPool2d(kernel_size=3, stride=2, padding=0, dilation=1, ceil_mode=False)\n",
              "  )\n",
              "  (conv): Conv2d(128, 128, kernel_size=(3, 3), stride=(1, 1))\n",
              "  (FCs): Sequential(\n",
              "    (FC1): Linear(in_features=3072, out_features=1024, bias=True)\n",
              "    (relu1): ReLU(inplace=True)\n",
              "    (FC2): Linear(in_features=1024, out_features=512, bias=True)\n",
              "    (relu2): ReLU(inplace=True)\n",
              "    (FC3): Linear(in_features=512, out_features=128, bias=True)\n",
              "  )\n",
              ")"
            ]
          },
          "metadata": {
            "tags": []
          },
          "execution_count": 104
        }
      ]
    },
    {
      "cell_type": "code",
      "metadata": {
        "id": "966dF2p-9uvY"
      },
      "source": [
        "with torch.no_grad():\n",
        "    x = model.semi_forward(att_dataset)\n",
        "    print(att_dataset.shape)\n",
        "    print(x[0])\n",
        "\n",
        "    y = model.semi_forward(att_dataset[0].unsqueeze(0))\n",
        "    print(att_dataset[0].unsqueeze(0).shape)\n",
        "    print(y)\n",
        "\n",
        "    print((att_dataset[0].unsqueeze(0) == att_dataset[0]).sum())\n",
        "    (x == y).sum()"
      ],
      "execution_count": null,
      "outputs": []
    },
    {
      "cell_type": "code",
      "metadata": {
        "id": "T8m4V3cE9uvY"
      },
      "source": [
        "def count_parameters(model):\n",
        "    return sum(p.numel() for p in model.parameters() if p.requires_grad)"
      ],
      "execution_count": null,
      "outputs": []
    },
    {
      "cell_type": "code",
      "metadata": {
        "colab": {
          "base_uri": "https://localhost:8080/"
        },
        "id": "N8YBzwn19uvY",
        "outputId": "d938fc5e-34e4-4a12-df09-6042b838e509"
      },
      "source": [
        "count_parameters(model)"
      ],
      "execution_count": null,
      "outputs": [
        {
          "output_type": "execute_result",
          "data": {
            "text/plain": [
              "4170400"
            ]
          },
          "metadata": {
            "tags": []
          },
          "execution_count": 111
        }
      ]
    },
    {
      "cell_type": "code",
      "metadata": {
        "id": "tJrhRwGZ9uvY"
      },
      "source": [
        "learning_rate = 0.0001\n",
        "optimizer = optim.Adam(model.parameters(), lr = learning_rate)\n",
        "if torch.cuda.is_available():\n",
        "    model = model.cuda()"
      ],
      "execution_count": null,
      "outputs": []
    },
    {
      "cell_type": "code",
      "metadata": {
        "colab": {
          "base_uri": "https://localhost:8080/"
        },
        "id": "kEA21cwY9uvZ",
        "outputId": "f43f2e3d-76f1-4659-825b-4f256c56e5d6"
      },
      "source": [
        "cost = []\n",
        "train_acc = []\n",
        "test_acc = []\n",
        "epochs = 15\n",
        "for epoch in range(epochs):\n",
        "\n",
        "    triplets = get_random_triplets(train)\n",
        "    loader = DataLoader(triplets, batch_size=500)\n",
        "    for i,batch in enumerate(loader):\n",
        "        if torch.cuda.is_available():\n",
        "            apn = model(batch.cuda())\n",
        "        else:\n",
        "            apn = model(batch)\n",
        "\n",
        "        optimizer.zero_grad()\n",
        "        loss = triplet_loss(*apn)\n",
        "        # loss = lossfn(*apn)\n",
        "        cost.append(loss.item())\n",
        "\n",
        "        loss.backward()\n",
        "        optimizer.step()\n",
        "\n",
        "        ####\n",
        "        # sample = torch.cat([model.semi_forward(att_dataset[i][0].unsqueeze(0).cuda()) for i in range(40)])\n",
        "        # total_enc = [model.semi_forward(img.cuda()) for img in dataset]\n",
        "        # pred = [torch.stack([dist(enc,sample).argmin() for enc in total_enc[i]]) for i in range(40)]\n",
        "        # acc1 = sum([(pred[i] == i).sum() for i in range(0,30)]) / 300\n",
        "        # acc2 = sum([(pred[i] == i).sum() for i in range(30,40)]) / 100\n",
        "        # train_acc.append(acc1)\n",
        "        # test_acc.append(acc2)\n",
        "        ####\n",
        "\n",
        "        if i%20==0 :\n",
        "            # print(f'Epoch:[{epoch+1}/{epochs}], Step:[{i+1}/87]', 'Cost : {:.2f}, Train Acc: {:.2f}, Test Acc: {:.2f}'.format(loss.item(), acc1, acc2))\n",
        "            print(f'Epoch:[{epoch+1}/{epochs}], Step:[{i+1}/] Cost : {loss.item()}')"
      ],
      "execution_count": null,
      "outputs": [
        {
          "output_type": "stream",
          "text": [
            "Epoch:[1/15], Step:[1/] Cost : 0.1013384759426117\n",
            "Epoch:[2/15], Step:[1/] Cost : 0.022036762908101082\n",
            "Epoch:[3/15], Step:[1/] Cost : 0.025683056563138962\n",
            "Epoch:[4/15], Step:[1/] Cost : 0.010993736796081066\n",
            "Epoch:[5/15], Step:[1/] Cost : 0.008536777459084988\n",
            "Epoch:[6/15], Step:[1/] Cost : 0.002934434451162815\n",
            "Epoch:[7/15], Step:[1/] Cost : 0.0007567564607597888\n",
            "Epoch:[8/15], Step:[1/] Cost : 0.0024686199612915516\n",
            "Epoch:[9/15], Step:[1/] Cost : 0.0010674004442989826\n",
            "Epoch:[10/15], Step:[1/] Cost : 0.0007982022943906486\n",
            "Epoch:[11/15], Step:[1/] Cost : 0.00036782657844014466\n",
            "Epoch:[12/15], Step:[1/] Cost : 0.00038989612949080765\n",
            "Epoch:[13/15], Step:[1/] Cost : 0.0008638770086690784\n",
            "Epoch:[14/15], Step:[1/] Cost : 0.00015690512373112142\n",
            "Epoch:[15/15], Step:[1/] Cost : 5.4578573326580226e-05\n"
          ],
          "name": "stdout"
        }
      ]
    },
    {
      "cell_type": "code",
      "metadata": {
        "colab": {
          "base_uri": "https://localhost:8080/",
          "height": 606
        },
        "id": "e43cvxy_9uvZ",
        "outputId": "2c71c83e-16de-4e14-e184-69068a59625e"
      },
      "source": [
        "plt.figure(figsize=(12,10))\n",
        "plt.xlabel('Total Iterations')\n",
        "plt.ylabel('Cost')\n",
        "plt.plot(np.arange(len(cost)), cost, label='cost')\n",
        "# plt.plot(np.arange(len(train_acc)), train_acc, label='train_acc')\n",
        "# plt.plot(np.arange(len(test_acc)), test_acc, label='test_acc')\n",
        "plt.grid(alpha=0.5)\n",
        "plt.legend()\n",
        "# plt.savefig('/content/drive/MyDrive/Colab Notebooks/siamese-orl-loss on 30classes')\n",
        "plt.show()"
      ],
      "execution_count": null,
      "outputs": [
        {
          "output_type": "display_data",
          "data": {
            "image/png": "[encoded data removed]",
            "text/plain": [
              "<Figure size 864x720 with 1 Axes>"
            ]
          },
          "metadata": {
            "tags": [],
            "needs_background": "light"
          }
        }
      ]
    },
    {
      "cell_type": "code",
      "metadata": {
        "id": "aYFV_Sdq9uvZ"
      },
      "source": [
        "p = (apn[0] - apn[1]).pow(2).sum(-1)\n",
        "n = (apn[0] - apn[2]).pow(2).sum(-1)"
      ],
      "execution_count": null,
      "outputs": []
    },
    {
      "cell_type": "code",
      "metadata": {
        "colab": {
          "base_uri": "https://localhost:8080/"
        },
        "id": "wA6zSU3m9uvZ",
        "outputId": "74e3d307-0bb4-45e2-b65f-f420d48b2df8"
      },
      "source": [
        "p.max() , p.mean() , n.max(), n.mean()\n"
      ],
      "execution_count": null,
      "outputs": [
        {
          "output_type": "execute_result",
          "data": {
            "text/plain": [
              "(tensor(1.4231, device='cuda:0', grad_fn=<MaxBackward1>),\n",
              " tensor(0.8647, device='cuda:0', grad_fn=<MeanBackward0>),\n",
              " tensor(7.3217, device='cuda:0', grad_fn=<MaxBackward1>),\n",
              " tensor(3.6133, device='cuda:0', grad_fn=<MeanBackward0>))"
            ]
          },
          "metadata": {
            "tags": []
          },
          "execution_count": 116
        }
      ]
    },
    {
      "cell_type": "code",
      "metadata": {
        "id": "5S9ocjkt9uva"
      },
      "source": [
        "def dist(enc1,enc2):\n",
        "    return (enc1 - enc2).pow(2).sum(-1)"
      ],
      "execution_count": null,
      "outputs": []
    },
    {
      "cell_type": "code",
      "metadata": {
        "colab": {
          "base_uri": "https://localhost:8080/"
        },
        "id": "7zNVqPvY9uva",
        "outputId": "7f63906f-fbac-4033-f4bd-b4de28be659b"
      },
      "source": [
        "torch.set_grad_enabled(False)"
      ],
      "execution_count": null,
      "outputs": [
        {
          "output_type": "execute_result",
          "data": {
            "text/plain": [
              "<torch.autograd.grad_mode.set_grad_enabled at 0x7f408c0db650>"
            ]
          },
          "metadata": {
            "tags": []
          },
          "execution_count": 118
        }
      ]
    },
    {
      "cell_type": "code",
      "metadata": {
        "colab": {
          "base_uri": "https://localhost:8080/"
        },
        "id": "8CetKClR9uva",
        "outputId": "effb9ed5-9fb7-4ddc-8c09-7c8060d1ab63"
      },
      "source": [
        "sample = torch.cat([model.semi_forward(dataset[i][0].unsqueeze(0).cuda()) for i in tqdm(range(40))])\n"
      ],
      "execution_count": null,
      "outputs": [
        {
          "output_type": "stream",
          "text": [
            "100%|██████████| 40/40 [00:00<00:00, 874.40it/s]\n"
          ],
          "name": "stderr"
        }
      ]
    },
    {
      "cell_type": "code",
      "metadata": {
        "colab": {
          "base_uri": "https://localhost:8080/"
        },
        "id": "y3GHdxsG9uva",
        "outputId": "a39973fd-a57d-4084-8c33-752f5d896a5b"
      },
      "source": [
        "sample.device\n"
      ],
      "execution_count": null,
      "outputs": [
        {
          "output_type": "execute_result",
          "data": {
            "text/plain": [
              "device(type='cuda', index=0)"
            ]
          },
          "metadata": {
            "tags": []
          },
          "execution_count": 120
        }
      ]
    },
    {
      "cell_type": "code",
      "metadata": {
        "colab": {
          "base_uri": "https://localhost:8080/"
        },
        "id": "KcpH8paP9uva",
        "outputId": "4a5779c4-36b5-493d-9103-bb82facb3f29"
      },
      "source": [
        "sample.shape\n"
      ],
      "execution_count": null,
      "outputs": [
        {
          "output_type": "execute_result",
          "data": {
            "text/plain": [
              "torch.Size([40, 128])"
            ]
          },
          "metadata": {
            "tags": []
          },
          "execution_count": 121
        }
      ]
    },
    {
      "cell_type": "code",
      "metadata": {
        "colab": {
          "base_uri": "https://localhost:8080/",
          "height": 268
        },
        "id": "DavZpxNS9uvb",
        "outputId": "32bd8b6f-6c9f-45d5-c21a-5a23539181f5"
      },
      "source": [
        "Class = 0\n",
        "randImg = dataset[Class][0]\n",
        "plt.imshow(randImg.squeeze(), cmap='gray')\n",
        "renc = model.semi_forward(randImg.unsqueeze(0).cuda())"
      ],
      "execution_count": null,
      "outputs": [
        {
          "output_type": "display_data",
          "data": {
            "image/png": "[encoded data removed]",
            "text/plain": [
              "<Figure size 432x288 with 1 Axes>"
            ]
          },
          "metadata": {
            "tags": [],
            "needs_background": "light"
          }
        }
      ]
    },
    {
      "cell_type": "code",
      "metadata": {
        "colab": {
          "base_uri": "https://localhost:8080/"
        },
        "id": "1xi1y3om9uvb",
        "outputId": "b4e24b60-8ea5-475a-e9d1-c488628131e8"
      },
      "source": [
        "dis = dist(renc, sample)\n",
        "dis.argmin(), dis"
      ],
      "execution_count": null,
      "outputs": [
        {
          "output_type": "execute_result",
          "data": {
            "text/plain": [
              "(tensor(0, device='cuda:0'),\n",
              " tensor([0.0000, 2.4852, 5.5270, 1.8431, 3.0656, 2.3418, 1.2660, 1.8373, 1.8809,\n",
              "         1.3492, 4.8949, 2.2838, 2.6625, 5.1208, 2.6684, 1.6107, 3.4180, 3.6100,\n",
              "         2.4952, 2.0669, 4.9787, 1.1611, 2.1805, 4.6542, 4.1450, 3.9852, 4.3040,\n",
              "         2.1565, 3.0525, 2.9782, 2.4489, 1.6495, 2.6570, 1.9603, 1.3391, 2.6215,\n",
              "         2.7621, 2.2655, 6.1738, 1.0774], device='cuda:0'))"
            ]
          },
          "metadata": {
            "tags": []
          },
          "execution_count": 123
        }
      ]
    },
    {
      "cell_type": "code",
      "metadata": {
        "colab": {
          "base_uri": "https://localhost:8080/"
        },
        "id": "EpCUhijb9uvb",
        "outputId": "564d6c82-381d-46cd-f864-9a5ce25a3435"
      },
      "source": [
        "renc\n"
      ],
      "execution_count": null,
      "outputs": [
        {
          "output_type": "execute_result",
          "data": {
            "text/plain": [
              "tensor([[ 0.1448, -0.0399, -0.5426,  0.0916,  0.2374, -0.3261, -0.4788, -0.0273,\n",
              "         -0.7106,  0.2707,  0.8042, -0.3076, -0.4545,  0.1558, -0.2263,  0.0270,\n",
              "         -0.4494,  0.4184,  0.2964, -0.1096,  0.2609, -0.2009,  0.1485, -0.7664,\n",
              "         -0.3512,  0.1075,  0.2969, -0.0733,  0.1780, -0.2396,  0.0896,  0.4529,\n",
              "         -0.5653,  0.4935,  0.0040, -0.4337, -0.4841, -0.1890,  0.4240,  0.1784,\n",
              "          0.1031,  0.2777,  0.1792,  0.0376, -0.1993, -0.5251,  0.3861,  0.2203,\n",
              "         -0.4577, -0.3200,  0.1832,  0.1937, -0.0062,  0.0906,  0.6730,  0.1465,\n",
              "         -0.1673,  0.3216,  0.1639,  0.5662, -0.2152, -0.0341,  0.0590,  0.3524,\n",
              "          0.5156, -0.4711,  0.0957, -0.4234,  0.2156,  0.2359,  0.3063,  0.1152,\n",
              "          1.2758,  0.1220,  0.1210, -0.1754, -0.5689,  0.4966, -0.2213,  0.4086,\n",
              "         -0.1332,  0.2767, -0.6595,  0.0866,  0.0851, -0.2307, -0.4585,  0.2522,\n",
              "         -0.2240,  0.1882, -0.0840, -0.2600,  0.0712, -0.7458,  0.1871, -0.2566,\n",
              "         -0.3060, -0.2350, -0.0726, -0.0880, -0.3461, -0.2516,  0.6420,  0.2575,\n",
              "         -0.4990,  0.1831, -0.7887, -0.2102,  0.3054, -0.3699, -0.4740, -0.0199,\n",
              "         -0.1908, -0.2816, -0.4008, -0.3968, -0.4743,  0.2278, -0.2991, -0.2663,\n",
              "         -0.0229,  0.0629, -0.3231,  0.4158,  0.2983,  0.6757, -0.0851,  0.2083]],\n",
              "       device='cuda:0')"
            ]
          },
          "metadata": {
            "tags": []
          },
          "execution_count": 124
        }
      ]
    },
    {
      "cell_type": "code",
      "metadata": {
        "colab": {
          "base_uri": "https://localhost:8080/"
        },
        "id": "t5dlhWFY9uvb",
        "outputId": "ff3d88f1-ae4c-4852-8120-a36cef9df613"
      },
      "source": [
        "sample[0]\n"
      ],
      "execution_count": null,
      "outputs": [
        {
          "output_type": "execute_result",
          "data": {
            "text/plain": [
              "tensor([ 0.1448, -0.0399, -0.5426,  0.0916,  0.2374, -0.3261, -0.4788, -0.0273,\n",
              "        -0.7106,  0.2707,  0.8042, -0.3076, -0.4545,  0.1558, -0.2263,  0.0270,\n",
              "        -0.4494,  0.4184,  0.2964, -0.1096,  0.2609, -0.2009,  0.1485, -0.7664,\n",
              "        -0.3512,  0.1075,  0.2969, -0.0733,  0.1780, -0.2396,  0.0896,  0.4529,\n",
              "        -0.5653,  0.4935,  0.0040, -0.4337, -0.4841, -0.1890,  0.4240,  0.1784,\n",
              "         0.1031,  0.2777,  0.1792,  0.0376, -0.1993, -0.5251,  0.3861,  0.2203,\n",
              "        -0.4577, -0.3200,  0.1832,  0.1937, -0.0062,  0.0906,  0.6730,  0.1465,\n",
              "        -0.1673,  0.3216,  0.1639,  0.5662, -0.2152, -0.0341,  0.0590,  0.3524,\n",
              "         0.5156, -0.4711,  0.0957, -0.4234,  0.2156,  0.2359,  0.3063,  0.1152,\n",
              "         1.2758,  0.1220,  0.1210, -0.1754, -0.5689,  0.4966, -0.2213,  0.4086,\n",
              "        -0.1332,  0.2767, -0.6595,  0.0866,  0.0851, -0.2307, -0.4585,  0.2522,\n",
              "        -0.2240,  0.1882, -0.0840, -0.2600,  0.0712, -0.7458,  0.1871, -0.2566,\n",
              "        -0.3060, -0.2350, -0.0726, -0.0880, -0.3461, -0.2516,  0.6420,  0.2575,\n",
              "        -0.4990,  0.1831, -0.7887, -0.2102,  0.3054, -0.3699, -0.4740, -0.0199,\n",
              "        -0.1908, -0.2816, -0.4008, -0.3968, -0.4743,  0.2278, -0.2991, -0.2663,\n",
              "        -0.0229,  0.0629, -0.3231,  0.4158,  0.2983,  0.6757, -0.0851,  0.2083],\n",
              "       device='cuda:0')"
            ]
          },
          "metadata": {
            "tags": []
          },
          "execution_count": 125
        }
      ]
    },
    {
      "cell_type": "code",
      "metadata": {
        "colab": {
          "base_uri": "https://localhost:8080/"
        },
        "id": "EHdZV7q59uvc",
        "outputId": "2b28a963-d265-4b05-d951-1e70eeac10b0"
      },
      "source": [
        "model.semi_forward(dataset[0][0].unsqueeze(0).cuda())\n"
      ],
      "execution_count": null,
      "outputs": [
        {
          "output_type": "execute_result",
          "data": {
            "text/plain": [
              "tensor([[ 0.1448, -0.0399, -0.5426,  0.0916,  0.2374, -0.3261, -0.4788, -0.0273,\n",
              "         -0.7106,  0.2707,  0.8042, -0.3076, -0.4545,  0.1558, -0.2263,  0.0270,\n",
              "         -0.4494,  0.4184,  0.2964, -0.1096,  0.2609, -0.2009,  0.1485, -0.7664,\n",
              "         -0.3512,  0.1075,  0.2969, -0.0733,  0.1780, -0.2396,  0.0896,  0.4529,\n",
              "         -0.5653,  0.4935,  0.0040, -0.4337, -0.4841, -0.1890,  0.4240,  0.1784,\n",
              "          0.1031,  0.2777,  0.1792,  0.0376, -0.1993, -0.5251,  0.3861,  0.2203,\n",
              "         -0.4577, -0.3200,  0.1832,  0.1937, -0.0062,  0.0906,  0.6730,  0.1465,\n",
              "         -0.1673,  0.3216,  0.1639,  0.5662, -0.2152, -0.0341,  0.0590,  0.3524,\n",
              "          0.5156, -0.4711,  0.0957, -0.4234,  0.2156,  0.2359,  0.3063,  0.1152,\n",
              "          1.2758,  0.1220,  0.1210, -0.1754, -0.5689,  0.4966, -0.2213,  0.4086,\n",
              "         -0.1332,  0.2767, -0.6595,  0.0866,  0.0851, -0.2307, -0.4585,  0.2522,\n",
              "         -0.2240,  0.1882, -0.0840, -0.2600,  0.0712, -0.7458,  0.1871, -0.2566,\n",
              "         -0.3060, -0.2350, -0.0726, -0.0880, -0.3461, -0.2516,  0.6420,  0.2575,\n",
              "         -0.4990,  0.1831, -0.7887, -0.2102,  0.3054, -0.3699, -0.4740, -0.0199,\n",
              "         -0.1908, -0.2816, -0.4008, -0.3968, -0.4743,  0.2278, -0.2991, -0.2663,\n",
              "         -0.0229,  0.0629, -0.3231,  0.4158,  0.2983,  0.6757, -0.0851,  0.2083]],\n",
              "       device='cuda:0')"
            ]
          },
          "metadata": {
            "tags": []
          },
          "execution_count": 126
        }
      ]
    },
    {
      "cell_type": "code",
      "metadata": {
        "colab": {
          "base_uri": "https://localhost:8080/"
        },
        "id": "-zAUHRzT9uvc",
        "outputId": "1e112f08-5458-46e0-d205-050dc09271b1"
      },
      "source": [
        "model.semi_forward(dataset[0].cuda())[0]\n"
      ],
      "execution_count": null,
      "outputs": [
        {
          "output_type": "execute_result",
          "data": {
            "text/plain": [
              "tensor([ 0.0990, -0.0656, -0.5216,  0.0893,  0.3054, -0.3207, -0.4283, -0.0439,\n",
              "        -0.6599,  0.2642,  0.7645, -0.2556, -0.4409,  0.1833, -0.2206,  0.0608,\n",
              "        -0.3695,  0.4170,  0.2920, -0.1149,  0.3234, -0.1763,  0.1087, -0.6943,\n",
              "        -0.3557,  0.0838,  0.2669, -0.0606,  0.1957, -0.2395,  0.0755,  0.4050,\n",
              "        -0.5374,  0.4696, -0.0072, -0.4600, -0.4399, -0.1582,  0.3977,  0.2066,\n",
              "         0.0327,  0.2107,  0.1701,  0.0496, -0.2357, -0.4884,  0.3157,  0.2243,\n",
              "        -0.4825, -0.3090,  0.1519,  0.1729, -0.0112,  0.0555,  0.6401,  0.1452,\n",
              "        -0.1559,  0.2669,  0.1675,  0.5993, -0.1999, -0.0643,  0.0521,  0.4112,\n",
              "         0.4606, -0.4671,  0.1165, -0.4274,  0.1472,  0.2229,  0.2869,  0.0813,\n",
              "         1.2140,  0.1154,  0.0958, -0.1668, -0.6180,  0.4908, -0.1860,  0.3495,\n",
              "        -0.0640,  0.2953, -0.6725,  0.0767,  0.0950, -0.2475, -0.4634,  0.2136,\n",
              "        -0.1991,  0.2051, -0.0626, -0.2362,  0.0792, -0.7086,  0.1776, -0.2701,\n",
              "        -0.2701, -0.2346, -0.1097, -0.0579, -0.3795, -0.2358,  0.5953,  0.2467,\n",
              "        -0.4537,  0.1503, -0.7934, -0.2131,  0.2719, -0.3239, -0.4068,  0.0133,\n",
              "        -0.1458, -0.2422, -0.4150, -0.3730, -0.4752,  0.2078, -0.2462, -0.2861,\n",
              "        -0.0237,  0.0933, -0.3219,  0.3533,  0.2470,  0.6146, -0.1246,  0.1622],\n",
              "       device='cuda:0')"
            ]
          },
          "metadata": {
            "tags": []
          },
          "execution_count": 127
        }
      ]
    },
    {
      "cell_type": "code",
      "metadata": {
        "colab": {
          "base_uri": "https://localhost:8080/"
        },
        "id": "rcBMfT5q9uvc",
        "outputId": "b0ffff6e-b8ec-4ffc-fd15-d64ef16b7e27"
      },
      "source": [
        "total_enc = [model.semi_forward(dataset[i].cuda()) for i in tqdm(range(40))]\n"
      ],
      "execution_count": null,
      "outputs": [
        {
          "output_type": "stream",
          "text": [
            "100%|██████████| 40/40 [00:00<00:00, 198.66it/s]\n"
          ],
          "name": "stderr"
        }
      ]
    },
    {
      "cell_type": "code",
      "metadata": {
        "colab": {
          "base_uri": "https://localhost:8080/"
        },
        "id": "LVKd2fgc9uvc",
        "outputId": "a473aa5d-f4fa-4520-c3fe-40bf02ef5f94"
      },
      "source": [
        "total_enc[0][0]\n"
      ],
      "execution_count": null,
      "outputs": [
        {
          "output_type": "execute_result",
          "data": {
            "text/plain": [
              "tensor([ 0.0990, -0.0656, -0.5216,  0.0893,  0.3054, -0.3207, -0.4283, -0.0439,\n",
              "        -0.6599,  0.2642,  0.7645, -0.2556, -0.4409,  0.1833, -0.2206,  0.0608,\n",
              "        -0.3695,  0.4170,  0.2920, -0.1149,  0.3234, -0.1763,  0.1087, -0.6943,\n",
              "        -0.3557,  0.0838,  0.2669, -0.0606,  0.1957, -0.2395,  0.0755,  0.4050,\n",
              "        -0.5374,  0.4696, -0.0072, -0.4600, -0.4399, -0.1582,  0.3977,  0.2066,\n",
              "         0.0327,  0.2107,  0.1701,  0.0496, -0.2357, -0.4884,  0.3157,  0.2243,\n",
              "        -0.4825, -0.3090,  0.1519,  0.1729, -0.0112,  0.0555,  0.6401,  0.1452,\n",
              "        -0.1559,  0.2669,  0.1675,  0.5993, -0.1999, -0.0643,  0.0521,  0.4112,\n",
              "         0.4606, -0.4671,  0.1165, -0.4274,  0.1472,  0.2229,  0.2869,  0.0813,\n",
              "         1.2140,  0.1154,  0.0958, -0.1668, -0.6180,  0.4908, -0.1860,  0.3495,\n",
              "        -0.0640,  0.2953, -0.6725,  0.0767,  0.0950, -0.2475, -0.4634,  0.2136,\n",
              "        -0.1991,  0.2051, -0.0626, -0.2362,  0.0792, -0.7086,  0.1776, -0.2701,\n",
              "        -0.2701, -0.2346, -0.1097, -0.0579, -0.3795, -0.2358,  0.5953,  0.2467,\n",
              "        -0.4537,  0.1503, -0.7934, -0.2131,  0.2719, -0.3239, -0.4068,  0.0133,\n",
              "        -0.1458, -0.2422, -0.4150, -0.3730, -0.4752,  0.2078, -0.2462, -0.2861,\n",
              "        -0.0237,  0.0933, -0.3219,  0.3533,  0.2470,  0.6146, -0.1246,  0.1622],\n",
              "       device='cuda:0')"
            ]
          },
          "metadata": {
            "tags": []
          },
          "execution_count": 130
        }
      ]
    },
    {
      "cell_type": "code",
      "metadata": {
        "colab": {
          "base_uri": "https://localhost:8080/"
        },
        "id": "spOIEjj39uvd",
        "outputId": "839fea9f-67ae-414e-e0c7-33f80d157d6b"
      },
      "source": [
        "pred = [torch.stack([dist(enc,sample).argmin() for enc in total_enc[i]]) for i in range(40)]\n",
        "print(*pred, sep='\\n')"
      ],
      "execution_count": null,
      "outputs": [
        {
          "output_type": "stream",
          "text": [
            "tensor([0, 0, 9, 9, 0, 0, 9, 9, 9, 9], device='cuda:0')\n",
            "tensor([1, 1, 1, 1, 1, 1, 1, 1, 1, 1], device='cuda:0')\n",
            "tensor([2, 2, 2, 2, 2, 2, 2, 2, 2, 2], device='cuda:0')\n",
            "tensor([3, 9, 3, 3, 3, 3, 3, 3, 3, 3], device='cuda:0')\n",
            "tensor([ 4,  4,  4,  4,  4, 11,  4,  4,  4,  4], device='cuda:0')\n",
            "tensor([ 5,  5,  5,  5,  5, 33, 32,  5,  5,  5], device='cuda:0')\n",
            "tensor([6, 6, 6, 6, 6, 6, 6, 6, 6, 6], device='cuda:0')\n",
            "tensor([7, 7, 7, 7, 7, 7, 7, 7, 7, 7], device='cuda:0')\n",
            "tensor([8, 8, 8, 8, 8, 8, 8, 8, 8, 8], device='cuda:0')\n",
            "tensor([9, 9, 9, 9, 9, 9, 9, 9, 9, 9], device='cuda:0')\n",
            "tensor([10, 10, 20,  3, 10, 10, 10, 10, 10, 10], device='cuda:0')\n",
            "tensor([11, 11, 33, 11, 11, 11, 11, 11, 11, 33], device='cuda:0')\n",
            "tensor([12, 12, 12, 12, 12, 12, 12, 12, 12, 12], device='cuda:0')\n",
            "tensor([13, 20, 36, 13, 20, 13, 13, 20, 13, 20], device='cuda:0')\n",
            "tensor([14, 14, 14, 14, 14, 14, 14, 14, 14, 14], device='cuda:0')\n",
            "tensor([15, 15, 15, 15, 15, 15, 15, 15, 15, 15], device='cuda:0')\n",
            "tensor([16, 14, 38, 16, 22, 38, 16, 33, 16, 33], device='cuda:0')\n",
            "tensor([17, 17, 36, 17, 36, 17, 36, 17, 36, 17], device='cuda:0')\n",
            "tensor([18, 30, 18, 30, 18, 30, 18, 18, 18, 18], device='cuda:0')\n",
            "tensor([19, 19, 21, 19, 19, 21, 19, 19, 21, 19], device='cuda:0')\n",
            "tensor([20, 20, 20, 20, 20, 20, 20, 36, 20, 20], device='cuda:0')\n",
            "tensor([21, 21, 21, 21, 21, 21, 21, 21, 21, 21], device='cuda:0')\n",
            "tensor([22, 33, 38, 22, 38, 22, 22, 16, 22, 19], device='cuda:0')\n",
            "tensor([23, 23, 23, 23, 23, 23, 23, 23, 23, 23], device='cuda:0')\n",
            "tensor([24, 24, 24, 24, 24, 24, 24, 24, 36, 24], device='cuda:0')\n",
            "tensor([25, 25, 25, 25, 25, 25, 25, 25, 25, 25], device='cuda:0')\n",
            "tensor([26, 26, 26, 26, 26, 26, 26, 26, 26, 26], device='cuda:0')\n",
            "tensor([27, 27, 27, 27, 27, 27, 27, 32, 27, 27], device='cuda:0')\n",
            "tensor([28,  3, 28, 28, 28, 28, 28, 28, 28, 28], device='cuda:0')\n",
            "tensor([29, 29, 29, 29, 29, 29, 29, 29, 29, 29], device='cuda:0')\n",
            "tensor([30, 30, 36, 30, 30, 30,  9, 30, 30, 30], device='cuda:0')\n",
            "tensor([31,  3, 31, 33, 31, 33, 34, 31,  9, 31], device='cuda:0')\n",
            "tensor([32, 32, 32, 32, 32, 32, 32, 32, 32, 32], device='cuda:0')\n",
            "tensor([33, 33, 33, 33, 33, 33, 33, 33, 33, 33], device='cuda:0')\n",
            "tensor([34,  9, 34, 34, 34, 34, 34,  9,  9, 34], device='cuda:0')\n",
            "tensor([35, 32, 35, 35, 33, 32, 33, 35, 32, 18], device='cuda:0')\n",
            "tensor([36, 36, 36, 36, 36, 36, 26, 36, 26,  2], device='cuda:0')\n",
            "tensor([37, 37, 33, 33, 24, 37, 24, 33, 37, 24], device='cuda:0')\n",
            "tensor([38, 38, 16, 25, 38, 38, 38, 33, 38, 22], device='cuda:0')\n",
            "tensor([39, 39,  0, 39, 39, 39,  0, 39, 39, 39], device='cuda:0')\n"
          ],
          "name": "stdout"
        }
      ]
    },
    {
      "cell_type": "code",
      "metadata": {
        "colab": {
          "base_uri": "https://localhost:8080/"
        },
        "id": "1PxlniNp9uvd",
        "outputId": "83916a59-e1b9-4296-f2d5-bb34495fd7e5"
      },
      "source": [
        "sum([(pred[i] == i).sum() for i in range(0,30)]) / 300\n"
      ],
      "execution_count": null,
      "outputs": [
        {
          "output_type": "execute_result",
          "data": {
            "text/plain": [
              "tensor(0.8533, device='cuda:0')"
            ]
          },
          "metadata": {
            "tags": []
          },
          "execution_count": 132
        }
      ]
    },
    {
      "cell_type": "code",
      "metadata": {
        "colab": {
          "base_uri": "https://localhost:8080/"
        },
        "id": "Ylg90Ne39uvd",
        "outputId": "2e3d66d1-da52-4858-cb8e-90068a4f40a4"
      },
      "source": [
        "tc = []\n",
        "for i in range(0,40):\n",
        "    corr = (pred[i] == i).sum()\n",
        "    print(f'(Claas {i})', corr.item(), 'out of 10')\n",
        "    tc.append(corr.item())\n",
        "\n",
        "print('Train Accuracy = ', sum(tc[:30])/3, '%')\n",
        "print('Test Accuracy = ', sum(tc[30:])/1, '%')\n",
        "print('Total Accuracy = ', sum(tc)/4, '%')"
      ],
      "execution_count": null,
      "outputs": [
        {
          "output_type": "stream",
          "text": [
            "(Claas 0) 4 out of 10\n",
            "(Claas 1) 10 out of 10\n",
            "(Claas 2) 10 out of 10\n",
            "(Claas 3) 9 out of 10\n",
            "(Claas 4) 9 out of 10\n",
            "(Claas 5) 8 out of 10\n",
            "(Claas 6) 10 out of 10\n",
            "(Claas 7) 10 out of 10\n",
            "(Claas 8) 10 out of 10\n",
            "(Claas 9) 10 out of 10\n",
            "(Claas 10) 8 out of 10\n",
            "(Claas 11) 8 out of 10\n",
            "(Claas 12) 10 out of 10\n",
            "(Claas 13) 5 out of 10\n",
            "(Claas 14) 10 out of 10\n",
            "(Claas 15) 10 out of 10\n",
            "(Claas 16) 4 out of 10\n",
            "(Claas 17) 6 out of 10\n",
            "(Claas 18) 7 out of 10\n",
            "(Claas 19) 7 out of 10\n",
            "(Claas 20) 9 out of 10\n",
            "(Claas 21) 10 out of 10\n",
            "(Claas 22) 5 out of 10\n",
            "(Claas 23) 10 out of 10\n",
            "(Claas 24) 9 out of 10\n",
            "(Claas 25) 10 out of 10\n",
            "(Claas 26) 10 out of 10\n",
            "(Claas 27) 9 out of 10\n",
            "(Claas 28) 9 out of 10\n",
            "(Claas 29) 10 out of 10\n",
            "(Claas 30) 8 out of 10\n",
            "(Claas 31) 5 out of 10\n",
            "(Claas 32) 10 out of 10\n",
            "(Claas 33) 10 out of 10\n",
            "(Claas 34) 7 out of 10\n",
            "(Claas 35) 4 out of 10\n",
            "(Claas 36) 7 out of 10\n",
            "(Claas 37) 4 out of 10\n",
            "(Claas 38) 6 out of 10\n",
            "(Claas 39) 8 out of 10\n",
            "Train Accuracy =  85.33333333333333 %\n",
            "Test Accuracy =  69.0 %\n",
            "Total Accuracy =  81.25 %\n"
          ],
          "name": "stdout"
        }
      ]
    },
    {
      "cell_type": "code",
      "metadata": {
        "id": "omt_x-kM9uvd"
      },
      "source": [
        "_,axxr = plt.subplots(40,10, figsize=(12,60))\n",
        "for i in range(40):\n",
        "    for j in range(10):\n",
        "        axxr[i][j].imshow(att_dataset[i][j].squeeze(), cmap='gray')\n",
        "        if pred[i][j] == i:\n",
        "            axxr[i][j].text(0.5,1,f'Pred={i}', color='green', fontsize=15)\n",
        "        else:\n",
        "            axxr[i][j].text(0.5,1,f'Pred={pred[i][j].item()}', color='red', fontsize=15)\n",
        "plt.setp(plt.gcf().get_axes(), xticks=[], yticks=[])\n",
        "# ref : https://stackoverflow.com/questions/25124143/matplotlib-subplots-get-rid-of-tick-labels-altogether\n",
        "# plt.savefig('/content/drive/MyDrive/Colab Notebooks/prediction_results of all 40 classes.png', dpi=200)\n",
        "plt.show()"
      ],
      "execution_count": null,
      "outputs": []
    },
    {
      "cell_type": "markdown",
      "metadata": {
        "id": "mvh2q2oOl4rl"
      },
      "source": [
        "**LFW Dataset**"
      ]
    },
    {
      "cell_type": "code",
      "metadata": {
        "id": "loCh7fIrVL5v",
        "colab": {
          "base_uri": "https://localhost:8080/"
        },
        "outputId": "61426c09-34bd-4b54-b60d-b052f057c734"
      },
      "source": [
        "from google.colab import drive\n",
        "drive.mount('/content/drive')"
      ],
      "execution_count": null,
      "outputs": [
        {
          "output_type": "stream",
          "text": [
            "Mounted at /content/drive\n"
          ],
          "name": "stdout"
        }
      ]
    },
    {
      "cell_type": "code",
      "metadata": {
        "colab": {
          "base_uri": "https://localhost:8080/"
        },
        "id": "gzqr48A60AA7",
        "outputId": "36f8a1d8-8a88-43b6-bac7-055bb11bf297"
      },
      "source": [
        "torch.cuda.is_available()"
      ],
      "execution_count": null,
      "outputs": [
        {
          "output_type": "execute_result",
          "data": {
            "text/plain": [
              "True"
            ]
          },
          "metadata": {
            "tags": []
          },
          "execution_count": 6
        }
      ]
    },
    {
      "cell_type": "code",
      "metadata": {
        "id": "XVyJOsXG0HIR"
      },
      "source": [
        "import sklearn\n",
        "from sklearn import datasets"
      ],
      "execution_count": null,
      "outputs": []
    },
    {
      "cell_type": "code",
      "metadata": {
        "id": "3h1A2w0Q0YlJ"
      },
      "source": [
        "lfw_pairs = datasets.fetch_lfw_pairs(\n",
        "    subset='train',\n",
        "    data_home=\"/content/drive/MyDrive/Colab Notebooks/lfw\",\n",
        "    funneled=False,\n",
        "    resize=1,\n",
        "    color=True,\n",
        "    download_if_missing=True\n",
        "    )\n",
        "# ref : https://scikit-learn.org/stable/modules/generated/sklearn.datasets.fetch_lfw_pairs.html"
      ],
      "execution_count": null,
      "outputs": []
    },
    {
      "cell_type": "code",
      "metadata": {
        "id": "kUtd0apG0cHQ"
      },
      "source": [
        "lfw_pairs.keys()"
      ],
      "execution_count": null,
      "outputs": []
    },
    {
      "cell_type": "code",
      "metadata": {
        "id": "7OoW1l6o1rbP"
      },
      "source": [
        "pairDevTrain = open(\"/content/drive/MyDrive/Colab Notebooks/lfw/lfw_home/pairsDevTrain.txt\").readlines()[1:]"
      ],
      "execution_count": null,
      "outputs": []
    },
    {
      "cell_type": "code",
      "metadata": {
        "id": "S84ihsiV1vVE"
      },
      "source": [
        "index = 99\n",
        "_, axxar = plt.subplots(1,2)\n",
        "axxar[0].imshow(lfw_pairs.pairs[index][0] / 255)\n",
        "axxar[1].imshow(lfw_pairs.pairs[index][1] / 255)\n",
        "print(pairDevTrain[index])\n",
        "print(lfw_pairs.target_names[lfw_pairs.target[index]])"
      ],
      "execution_count": null,
      "outputs": []
    },
    {
      "cell_type": "code",
      "metadata": {
        "id": "YLMGHGiO16wi"
      },
      "source": [
        "lfw_people = datasets.fetch_lfw_people(\n",
        "    data_home=\"/content/drive/MyDrive/Colab Notebooks/LFW\",\n",
        "    min_faces_per_person=2,\n",
        "    resize=1,\n",
        "    color=True,\n",
        "    download_if_missing=True\n",
        ")"
      ],
      "execution_count": null,
      "outputs": []
    },
    {
      "cell_type": "code",
      "metadata": {
        "id": "ch0G7qtK3NDd"
      },
      "source": [
        "def get_random_triplets(no_classes:int, images, target, no_triplets:int):\n",
        "    # Ref : https://github.com/tamerthamoqa/facenet-pytorch-vggface2/blob/master/datasets/TripletLossDataset.py#L76-L136\n",
        "    randomstate = np.random.RandomState(seed=None)\n",
        "    # no_class = len(lfw_people.target_names)\n",
        "    triplets = []\n",
        "    class_pairs = []\n",
        "\n",
        "    ###\n",
        "    # _,axxar = plt.subplots(no_triplets,3, figsize=(7,5))\n",
        "    # plt.setp(plt.gcf().get_axes(), xticks=[], yticks=[])\n",
        "    # # ref : https://stackoverflow.com/questions/25124143/matplotlib-subplots-get-rid-of-tick-labels-altogether\n",
        "    ###\n",
        "\n",
        "    # progress_bar = tqdm(range(no_triplets), desc='fetching triplets')\n",
        "    for progress in range(no_triplets):\n",
        "\n",
        "        pos_class = randomstate.choice(no_classes)\n",
        "        neg_class = randomstate.choice(no_classes)\n",
        "        while pos_class == neg_class:\n",
        "            neg_class = randomstate.choice(no_classes)\n",
        "\n",
        "        # pos_name = lfw_people.target_names[pos_class]\n",
        "        # neg_name = lfw_people.target_names[neg_class]\n",
        "\n",
        "        pos_imgs = images[target == pos_class]\n",
        "        neg_imgs = images[target == neg_class]\n",
        "\n",
        "        if pos_imgs.shape[0] == 2:\n",
        "            ianc, ipos = 0,1\n",
        "        else:\n",
        "            ianc = randomstate.randint(0, pos_imgs.shape[0])\n",
        "            ipos = randomstate.randint(0, pos_imgs.shape[0])\n",
        "            while ianc == ipos:\n",
        "                ipos = randomstate.randint(0, pos_imgs.shape[0])\n",
        "        ineg = randomstate.randint(0, neg_imgs.shape[0])\n",
        "\n",
        "        ####\n",
        "        # axxar[progress][0].imshow(pos_imgs[ianc] / 255)\n",
        "        # axxar[progress][0].set_title(lfw_people.target_names[pos_class])\n",
        "        # axxar[progress][1].imshow(pos_imgs[ipos] / 255)\n",
        "        # axxar[progress][1].set_title(lfw_people.target_names[pos_class])\n",
        "        # axxar[progress][2].imshow(neg_imgs[ineg] / 255)\n",
        "        # axxar[progress][2].set_title(lfw_people.target_names[neg_class])\n",
        "        ####\n",
        "\n",
        "        triplets.append(\n",
        "            torch.stack([\n",
        "                torch.from_numpy(pos_imgs[ianc] / 255),\n",
        "                torch.from_numpy(pos_imgs[ipos] / 255),\n",
        "                torch.from_numpy(neg_imgs[ineg] / 255)\n",
        "            ]))\n",
        "        class_pairs.append((pos_class, neg_class))\n",
        "\n",
        "    return torch.stack(triplets) , class_pairs"
      ],
      "execution_count": null,
      "outputs": []
    },
    {
      "cell_type": "code",
      "metadata": {
        "id": "Q9UtooOP5nSD"
      },
      "source": [
        "class ResModel(nn.Module):\n",
        "    def __init__(self):\n",
        "        super(ResModel, self).__init__()\n",
        "        # use the following line for Sqeezenet\n",
        "        self.resnet = torchvision.models.squeezenet1_0()\n",
        "        # use the following line for the resnet\n",
        "        #self.resnet = torchvision.models.resnet18()\n",
        "        self.linear = nn.Linear(1000, 128)\n",
        "\n",
        "    def semi_forward(self,x):\n",
        "        x = self.resnet(x)\n",
        "        x = self.linear(x)\n",
        "        return x\n",
        "\n",
        "    def forward(self, triplet):\n",
        "        triplet = triplet.movedim(-1, -3)\n",
        "        anc = self.semi_forward(triplet[:,0,...])\n",
        "        pos = self.semi_forward(triplet[:,1,...])\n",
        "        neg = self.semi_forward(triplet[:,2,...])\n",
        "        return [anc, pos, neg]\n",
        "#   Contrastive loss\n",
        "#    def forward(self, pairs):\n",
        "#        pairs = pairs.movedim(-1, -3)\n",
        "#        first = self.semi_forward(pairs[:,0,...])\n",
        "#        second = self.semi_forward(pairs[:,1,...])\n",
        "#        return [first, second]"
      ],
      "execution_count": null,
      "outputs": []
    },
    {
      "cell_type": "code",
      "metadata": {
        "id": "T04sBsYX5vI3"
      },
      "source": [
        "model = ResModel()"
      ],
      "execution_count": null,
      "outputs": []
    },
    {
      "cell_type": "code",
      "metadata": {
        "id": "OI-8z43e5x9P"
      },
      "source": [
        "lfw_pairs.pairs[:1100].shape"
      ],
      "execution_count": null,
      "outputs": []
    },
    {
      "cell_type": "code",
      "metadata": {
        "id": "i8KTItTf6BNY"
      },
      "source": [
        "model = model.cuda()\n",
        "learning_rate = 0.0001\n",
        "optimizer = torch.optim.Adam(model.parameters(), lr = learning_rate)\n",
        "lossfn = nn.TripletMarginLoss(margin=1, reduction='mean')\n"
      ],
      "execution_count": null,
      "outputs": []
    },
    {
      "cell_type": "code",
      "metadata": {
        "id": "6EhlV7emSEbO"
      },
      "source": [
        "cost = []\n",
        "\n",
        "epochs = 1000\n",
        "for epoch in range(epochs):\n",
        "\n",
        "    triplets, class_pairs = get_random_triplets(no_classes=len(lfw_people.target_names),\n",
        "                                                images=lfw_people.images,\n",
        "                                                target=lfw_people.target, no_triplets=500)\n",
        "\n",
        "    apn = model(triplets.cuda())\n",
        "    # apn = model(triplets)\n",
        "\n",
        "    optimizer.zero_grad()\n",
        "    #loss = triplet_loss(*apn)\n",
        "    loss = lossfn(*apn)\n",
        "    cost.append(loss.item())\n",
        "\n",
        "    loss.backward()\n",
        "    optimizer.step()\n",
        "\n",
        "    print(f'Epoch:[{epoch+1}/{epochs}] , Cost : {loss.item()}')"
      ],
      "execution_count": null,
      "outputs": []
    },
    {
      "cell_type": "markdown",
      "metadata": {
        "id": "vGFnmyVESFDJ"
      },
      "source": [
        "**Contrastive** **loss**"
      ]
    },
    {
      "cell_type": "code",
      "metadata": {
        "id": "NhZQdZa3mU4f"
      },
      "source": [
        "class ResModel(nn.Module):\n",
        "    def __init__(self):\n",
        "        super(ResModel, self).__init__()\n",
        "        # use the following line for Sqeezenet\n",
        "        self.resnet = torchvision.models.squeezenet1_0()\n",
        "        # use the following line for the resnet\n",
        "        #self.resnet = torchvision.models.resnet18()\n",
        "        self.linear = nn.Linear(1000, 128)\n",
        "\n",
        "    def semi_forward(self,x):\n",
        "        x = self.resnet(x)\n",
        "        x = self.linear(x)\n",
        "        return x\n",
        "\n",
        "#    def forward(self, triplet):\n",
        "#        triplet = triplet.movedim(-1, -3)\n",
        "#        anc = self.semi_forward(triplet[:,0,...])\n",
        "#        pos = self.semi_forward(triplet[:,1,...])\n",
        "#        neg = self.semi_forward(triplet[:,2,...])\n",
        "#        return [anc, pos, neg]\n",
        "#   Contrastive loss\n",
        "    def forward(self, pairs):\n",
        "        pairs = pairs.movedim(-1, -3)\n",
        "        first = self.semi_forward(pairs[:,0,...])\n",
        "        second = self.semi_forward(pairs[:,1,...])\n",
        "        return [first, second]"
      ],
      "execution_count": null,
      "outputs": []
    },
    {
      "cell_type": "markdown",
      "metadata": {
        "id": "o3n3K6e88x4n"
      },
      "source": [
        "The problem we encountered here is to load the data and it's labels, we could load the data itself but not the labels."
      ]
    },
    {
      "cell_type": "code",
      "metadata": {
        "id": "8JIXA34oJrGm"
      },
      "source": [
        "bs = 64\n",
        "dataset_loader_train = torch.utils.data.DataLoader(torch.tensor(lfw_pairs.pairs), shuffle=False,\n",
        "                                                  batch_size=bs,\n",
        "                                                  pin_memory=True)"
      ],
      "execution_count": null,
      "outputs": []
    },
    {
      "cell_type": "code",
      "metadata": {
        "id": "ciyehnMZK3QP",
        "colab": {
          "base_uri": "https://localhost:8080/"
        },
        "outputId": "8f042cdb-22cf-4966-9910-a12416ea3b50"
      },
      "source": [
        "len(dataset_loader_train)"
      ],
      "execution_count": null,
      "outputs": [
        {
          "output_type": "execute_result",
          "data": {
            "text/plain": [
              "35"
            ]
          },
          "metadata": {
            "tags": []
          },
          "execution_count": 13
        }
      ]
    },
    {
      "cell_type": "code",
      "metadata": {
        "id": "DiFtLkxLMd2M"
      },
      "source": [
        "def contrastive_loss(first, second, label, margin=1):\n",
        "    dist = (first - second).pow(2).sum(-1) #.pow(.5)\n",
        "    same_pair = F.relu(margin - dist)\n",
        "    loss = label * dist.pow(2) + (1 - label) * same_pair.pow(2)\n",
        "    return loss.mean()"
      ],
      "execution_count": null,
      "outputs": []
    },
    {
      "cell_type": "code",
      "metadata": {
        "id": "cw-Uytz-Qkyl",
        "colab": {
          "base_uri": "https://localhost:8080/",
          "height": 131
        },
        "outputId": "a8ccaddf-23fb-4145-8a8f-f80b1357788f"
      },
      "source": [
        "cost = []\n",
        "epochs = 1000\n",
        "i = 0\n",
        "for epoch in range(epochs):\n",
        "\n",
        "  for i, data in enumerate(dataset_loader_train, 0):\n"
      ],
      "execution_count": null,
      "outputs": [
        {
          "output_type": "error",
          "ename": "SyntaxError",
          "evalue": "ignored",
          "traceback": [
            "\u001b[0;36m  File \u001b[0;32m\"<ipython-input-15-8229a96bd1e3>\"\u001b[0;36m, line \u001b[0;32m6\u001b[0m\n\u001b[0;31m    for i, data in enumerate(dataset_loader_train, 0):\u001b[0m\n\u001b[0m                                                      ^\u001b[0m\n\u001b[0;31mSyntaxError\u001b[0m\u001b[0;31m:\u001b[0m unexpected EOF while parsing\n"
          ]
        }
      ]
    },
    {
      "cell_type": "code",
      "metadata": {
        "id": "RupuBFCk6Iug"
      },
      "source": [
        "cost = []\n",
        "dataset = torch.tensor(lfw_pairs.pairs)\n",
        "epochs = 1000\n",
        "i = 0\n",
        "for epoch in range(epochs):\n",
        "    loader = torch.utils.data.DataLoader(dataset , batch_size=1)\n",
        "    for sample in loader:\n",
        "#      fir = sample[:,0,...] /255\n",
        "#      sec = sample[:,1,...] /255\n",
        "#      sample[:,0,...].cuda() /255\n",
        "#      pairs = torch.stack([fir, sec])\n",
        "      fs = model(sample.cuda() /255)\n",
        "      # apn = model(triplets)\n",
        "\n",
        "      optimizer.zero_grad()\n",
        "      #loss = triplet_loss(*apn)\n",
        "      print((torch.reshape(torch.tensor(lfw_pairs.target[i]),(1,))).ndim)\n",
        "      loss = loss_func(*fs,(torch.reshape(torch.tensor(lfw_pairs.target[i]),(1,))))\n",
        "      cost.append(loss.item())\n",
        "\n",
        "      loss.backward()\n",
        "      optimizer.step()\n",
        "\n",
        "    print(f'Epoch:[{epoch+1}/{epochs}] , Cost : {loss.item()}')"
      ],
      "execution_count": null,
      "outputs": []
    },
    {
      "cell_type": "code",
      "metadata": {
        "id": "R0pEikZl0OsC"
      },
      "source": [
        "!nvidia-smi"
      ],
      "execution_count": null,
      "outputs": []
    },
    {
      "cell_type": "code",
      "metadata": {
        "id": "8S31xkPf6qZw"
      },
      "source": [
        "plt.xlabel('Total Iterations')\n",
        "plt.ylabel('Cost')\n",
        "plt.plot(np.arange(epochs), cost)\n",
        "plt.grid(alpha=0.5)\n",
        "plt.show()"
      ],
      "execution_count": null,
      "outputs": []
    },
    {
      "cell_type": "code",
      "metadata": {
        "id": "l4IHcvnR7YBW"
      },
      "source": [
        "def dist(enc1,enc2):\n",
        "    return (enc1 - enc2).pow(2).sum(-1)"
      ],
      "execution_count": null,
      "outputs": []
    },
    {
      "cell_type": "code",
      "metadata": {
        "id": "VRmOTKvJ7czi"
      },
      "source": [
        "loader = torch.utils.data.DataLoader(lfw_pairs.pairs, batch_size=1)"
      ],
      "execution_count": null,
      "outputs": []
    },
    {
      "cell_type": "code",
      "metadata": {
        "id": "C4wKFT5rcVix"
      },
      "source": [
        "lfw_pairs.pairs.shape"
      ],
      "execution_count": null,
      "outputs": []
    },
    {
      "cell_type": "code",
      "metadata": {
        "id": "YDuwft147hCD"
      },
      "source": [
        "len(loader)"
      ],
      "execution_count": null,
      "outputs": []
    },
    {
      "cell_type": "code",
      "metadata": {
        "id": "1QacogNP7jlq"
      },
      "source": [
        "sample = next(iter(loader))\n",
        "sample.shape"
      ],
      "execution_count": null,
      "outputs": []
    },
    {
      "cell_type": "code",
      "metadata": {
        "id": "CtNFczdl7mYm"
      },
      "source": [
        "pred = []"
      ],
      "execution_count": null,
      "outputs": []
    },
    {
      "cell_type": "code",
      "metadata": {
        "id": "JDB4LxbO7rEF"
      },
      "source": [
        "for sample in loader:\n",
        "    test1 = sample[:,0,...].cuda() /255\n",
        "    test2 = sample[:,1,...].cuda() /255\n",
        "    enc1 = model.semi_forward(test1.movedim(-1,-3))\n",
        "    enc2 = model.semi_forward(test2.movedim(-1,-3))\n",
        "    d = dist(enc1,enc2)\n",
        "    pred.append(d.cpu().detach().numpy())"
      ],
      "execution_count": null,
      "outputs": []
    },
    {
      "cell_type": "code",
      "metadata": {
        "id": "mbFbDZCECl6r"
      },
      "source": [
        "min = 100\n",
        "max = 0\n",
        "for i in range(1100):\n",
        "  if pred[i+1000][0] > max:\n",
        "    max = pred[i][0]\n",
        "  if pred[i+1100][0] < min:\n",
        "    min = pred[i][0]"
      ],
      "execution_count": null,
      "outputs": []
    },
    {
      "cell_type": "code",
      "metadata": {
        "id": "F-VZfbavF_e_"
      },
      "source": [
        "min"
      ],
      "execution_count": null,
      "outputs": []
    },
    {
      "cell_type": "code",
      "metadata": {
        "id": "8SHkNetjHDBG"
      },
      "source": [
        "correct = np.zeros((1,1106))\n",
        "for i in range(98,1203):\n",
        "  threshold = i / 100\n",
        "  correct_positive = 0\n",
        "  correct_negative = 0\n",
        "  uncorrect_positive = 0\n",
        "  uncorrect_negative = 0\n",
        "  for j in range(1100):\n",
        "    if  pred[j][0] < threshold:\n",
        "      correct_positive = correct_positive + 1\n",
        "    if pred[j+1100][0] > threshold:\n",
        "      correct_negative = correct_negative + 1\n",
        "    corr = correct_positive + correct_negative\n",
        "    correct[0,(i-98)] = corr\n"
      ],
      "execution_count": null,
      "outputs": []
    },
    {
      "cell_type": "code",
      "metadata": {
        "id": "vdA4vDOCe82x"
      },
      "source": [
        "correct"
      ],
      "execution_count": null,
      "outputs": []
    },
    {
      "cell_type": "code",
      "metadata": {
        "id": "ATbhBuFP2yx5"
      },
      "source": [
        "j = np.zeros((1,1106))\n",
        "for k in range(98,1203):\n",
        "  j[0,(k-98)] = k/100"
      ],
      "execution_count": null,
      "outputs": []
    },
    {
      "cell_type": "code",
      "metadata": {
        "id": "vyzg29_H1lc2"
      },
      "source": [
        "plt.plot(j[0],correct[0])"
      ],
      "execution_count": null,
      "outputs": []
    },
    {
      "cell_type": "code",
      "metadata": {
        "id": "Y3tf0xuXPSeE"
      },
      "source": [
        "correct_positive = 0\n",
        "correct_negative = 0\n",
        "corr = 0\n",
        "for j in range(1100):\n",
        "    if  pred[j][0] < 0.69:\n",
        "      correct_positive = correct_positive + 1\n",
        "    if pred[j+1100][0] > 0.69:\n",
        "      correct_negative = correct_negative + 1\n",
        "    corr = correct_positive + correct_negative"
      ],
      "execution_count": null,
      "outputs": []
    },
    {
      "cell_type": "code",
      "metadata": {
        "id": "HQmOvJxbPc4G"
      },
      "source": [
        "correct_negative"
      ],
      "execution_count": null,
      "outputs": []
    },
    {
      "cell_type": "code",
      "metadata": {
        "id": "AXBjmNYMLcdz"
      },
      "source": [
        "correct"
      ],
      "execution_count": null,
      "outputs": []
    }
  ]
}